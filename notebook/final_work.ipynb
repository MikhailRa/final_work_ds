{
 "cells": [
  {
   "metadata": {},
   "cell_type": "markdown",
   "source": [
    "# Импорт библиотек"
   ],
   "id": "d10c71e8ede2130d"
  },
  {
   "metadata": {
    "ExecuteTime": {
     "end_time": "2024-06-10T15:35:05.870875Z",
     "start_time": "2024-06-10T15:35:05.625091Z"
    }
   },
   "cell_type": "code",
   "source": [
    "import os\n",
    "import warnings\n",
    "import pandas as pd\n",
    "import tqdm\n",
    "import numpy as np\n",
    "import matplotlib.pyplot as plt\n",
    "import seaborn as sns\n",
    "from sklearn.model_selection import train_test_split\n",
    "from sklearn.preprocessing import StandardScaler\n",
    "from xgboost import XGBClassifier\n",
    "from sklearn.utils import compute_sample_weight\n",
    "from sklearn.metrics import roc_curve, precision_recall_curve, classification_report, roc_auc_score\n",
    "\n",
    "warnings.filterwarnings('ignore')"
   ],
   "id": "e3384516125797c4",
   "outputs": [],
   "execution_count": 1
  },
  {
   "metadata": {},
   "cell_type": "markdown",
   "source": [
    "# Чтение исходных данных"
   ],
   "id": "551295ba399ea3ee"
  },
  {
   "metadata": {
    "ExecuteTime": {
     "end_time": "2024-06-10T15:35:08.168229Z",
     "start_time": "2024-06-10T15:35:08.165169Z"
    }
   },
   "cell_type": "code",
   "source": [
    "# путь до данных на компьютере\n",
    "path = 'G:/ds-junior/final_work_ds/train_data'"
   ],
   "id": "b6dd96c5a5084bc5",
   "outputs": [],
   "execution_count": 2
  },
  {
   "metadata": {
    "ExecuteTime": {
     "end_time": "2024-06-10T15:35:09.044473Z",
     "start_time": "2024-06-10T15:35:09.039054Z"
    }
   },
   "cell_type": "code",
   "source": [
    "def read_parquet_dataset_from_local(path_to_dataset: str, start_from: int = 0,\n",
    "                                    num_parts_to_read: int = 12, columns=None, verbose=False) -> pd.DataFrame:\n",
    "    \"\"\"\n",
    "    читает num_parts_to_read партиций, преобразовывает их к pd.DataFrame и возвращает\n",
    "    :param path_to_dataset: путь до директории с партициями\n",
    "    :param start_from: номер партиции, с которой нужно начать чтение\n",
    "    :param num_parts_to_read: количество партиций, которые требуется прочитать\n",
    "    :param columns: список колонок, которые нужно прочитать из партиции\n",
    "    :return: pd.DataFrame\n",
    "    \"\"\"\n",
    "\n",
    "    res = []\n",
    "    dataset_paths = sorted([os.path.join(path_to_dataset, filename) for filename in os.listdir(path_to_dataset)\n",
    "                            if filename.startswith('train')])\n",
    "    print(dataset_paths)\n",
    "\n",
    "    start_from = max(0, start_from)\n",
    "    chunks = dataset_paths[start_from: start_from + num_parts_to_read]\n",
    "    if verbose:\n",
    "        print('Reading chunks:\\n')\n",
    "        for chunk in chunks:\n",
    "            print(chunk)\n",
    "    for chunk_path in tqdm.tqdm_notebook(chunks, desc=\"Reading dataset with pandas\"):\n",
    "        print('chunk_path', chunk_path)\n",
    "        chunk = pd.read_parquet(chunk_path,columns=columns)\n",
    "        res.append(chunk)\n",
    "\n",
    "    return pd.concat(res).reset_index(drop=True)"
   ],
   "id": "ee2ec3f2c8c5b0dc",
   "outputs": [],
   "execution_count": 3
  },
  {
   "metadata": {
    "ExecuteTime": {
     "end_time": "2024-06-10T15:35:10.071037Z",
     "start_time": "2024-06-10T15:35:10.066648Z"
    }
   },
   "cell_type": "code",
   "source": [
    "def prepare_transactions_dataset(path_to_dataset: str, num_parts_to_preprocess_at_once: int = 1, num_parts_total: int=50,\n",
    "                                 save_to_path=None, verbose: bool=False):\n",
    "    \"\"\"\n",
    "    возвращает готовый pd.DataFrame с признаками, на которых можно учить модель для целевой задачи\n",
    "    path_to_dataset: str\n",
    "        путь до датасета с партициями\n",
    "    num_parts_to_preprocess_at_once: int\n",
    "        количество партиций, которые будут одновременно держаться и обрабатываться в памяти\n",
    "    num_parts_total: int\n",
    "        общее количество партиций, которые нужно обработать\n",
    "    save_to_path: str\n",
    "        путь до папки, в которой будет сохранён каждый обработанный блок в .parquet-формате; если None, то не будет сохранён\n",
    "    verbose: bool\n",
    "        логирует каждую обрабатываемую часть данных\n",
    "    \"\"\"\n",
    "    preprocessed_frames = []\n",
    "\n",
    "    for step in tqdm.tqdm_notebook(range(0, num_parts_total, num_parts_to_preprocess_at_once),\n",
    "                                   desc=\"Transforming transactions data\"):\n",
    "        transactions_frame = read_parquet_dataset_from_local(path_to_dataset, step, num_parts_to_preprocess_at_once,\n",
    "                                                             verbose=verbose)\n",
    "\n",
    "\n",
    "        #здесь должен быть препроцессинг данных\n",
    "\n",
    "\n",
    "        #записываем подготовленные данные в файл\n",
    "        if save_to_path:\n",
    "            block_as_str = str(step)\n",
    "            if len(block_as_str) == 1:\n",
    "                block_as_str = '00' + block_as_str\n",
    "            else:\n",
    "                block_as_str = '0' + block_as_str\n",
    "            transactions_frame.to_parquet(os.path.join(save_to_path, f'processed_chunk_{block_as_str}.parquet'))\n",
    "\n",
    "        preprocessed_frames.append(transactions_frame)\n",
    "    return pd.concat(preprocessed_frames)"
   ],
   "id": "a4de62796d33ccfd",
   "outputs": [],
   "execution_count": 4
  },
  {
   "metadata": {
    "ExecuteTime": {
     "end_time": "2024-06-10T15:35:44.469082Z",
     "start_time": "2024-06-10T15:35:12.248948Z"
    }
   },
   "cell_type": "code",
   "source": [
    "data = prepare_transactions_dataset(path, num_parts_to_preprocess_at_once=2, num_parts_total=12,\n",
    "                                    save_to_path='G:/ds-junior/final_work_ds/train_data')"
   ],
   "id": "d9c764d1dc79e7a",
   "outputs": [
    {
     "data": {
      "text/plain": [
       "Transforming transactions data:   0%|          | 0/6 [00:00<?, ?it/s]"
      ],
      "application/vnd.jupyter.widget-view+json": {
       "version_major": 2,
       "version_minor": 0,
       "model_id": "8fa1644d6c2f4eeb8784345470fb7fcf"
      }
     },
     "metadata": {},
     "output_type": "display_data"
    },
    {
     "name": "stdout",
     "output_type": "stream",
     "text": [
      "['G:/ds-junior/final_work_ds/train_data\\\\train_data_0.pq', 'G:/ds-junior/final_work_ds/train_data\\\\train_data_1.pq', 'G:/ds-junior/final_work_ds/train_data\\\\train_data_10.pq', 'G:/ds-junior/final_work_ds/train_data\\\\train_data_11.pq', 'G:/ds-junior/final_work_ds/train_data\\\\train_data_2.pq', 'G:/ds-junior/final_work_ds/train_data\\\\train_data_3.pq', 'G:/ds-junior/final_work_ds/train_data\\\\train_data_4.pq', 'G:/ds-junior/final_work_ds/train_data\\\\train_data_5.pq', 'G:/ds-junior/final_work_ds/train_data\\\\train_data_6.pq', 'G:/ds-junior/final_work_ds/train_data\\\\train_data_7.pq', 'G:/ds-junior/final_work_ds/train_data\\\\train_data_8.pq', 'G:/ds-junior/final_work_ds/train_data\\\\train_data_9.pq', 'G:/ds-junior/final_work_ds/train_data\\\\train_target.csv']\n"
     ]
    },
    {
     "data": {
      "text/plain": [
       "Reading dataset with pandas:   0%|          | 0/2 [00:00<?, ?it/s]"
      ],
      "application/vnd.jupyter.widget-view+json": {
       "version_major": 2,
       "version_minor": 0,
       "model_id": "6ecd8b66c31f480baf16cb40b7a6e378"
      }
     },
     "metadata": {},
     "output_type": "display_data"
    },
    {
     "name": "stdout",
     "output_type": "stream",
     "text": [
      "chunk_path G:/ds-junior/final_work_ds/train_data\\train_data_0.pq\n",
      "chunk_path G:/ds-junior/final_work_ds/train_data\\train_data_1.pq\n",
      "['G:/ds-junior/final_work_ds/train_data\\\\train_data_0.pq', 'G:/ds-junior/final_work_ds/train_data\\\\train_data_1.pq', 'G:/ds-junior/final_work_ds/train_data\\\\train_data_10.pq', 'G:/ds-junior/final_work_ds/train_data\\\\train_data_11.pq', 'G:/ds-junior/final_work_ds/train_data\\\\train_data_2.pq', 'G:/ds-junior/final_work_ds/train_data\\\\train_data_3.pq', 'G:/ds-junior/final_work_ds/train_data\\\\train_data_4.pq', 'G:/ds-junior/final_work_ds/train_data\\\\train_data_5.pq', 'G:/ds-junior/final_work_ds/train_data\\\\train_data_6.pq', 'G:/ds-junior/final_work_ds/train_data\\\\train_data_7.pq', 'G:/ds-junior/final_work_ds/train_data\\\\train_data_8.pq', 'G:/ds-junior/final_work_ds/train_data\\\\train_data_9.pq', 'G:/ds-junior/final_work_ds/train_data\\\\train_target.csv']\n"
     ]
    },
    {
     "data": {
      "text/plain": [
       "Reading dataset with pandas:   0%|          | 0/2 [00:00<?, ?it/s]"
      ],
      "application/vnd.jupyter.widget-view+json": {
       "version_major": 2,
       "version_minor": 0,
       "model_id": "5de0edad49964d2f8729dbd2f91f332a"
      }
     },
     "metadata": {},
     "output_type": "display_data"
    },
    {
     "name": "stdout",
     "output_type": "stream",
     "text": [
      "chunk_path G:/ds-junior/final_work_ds/train_data\\train_data_10.pq\n",
      "chunk_path G:/ds-junior/final_work_ds/train_data\\train_data_11.pq\n",
      "['G:/ds-junior/final_work_ds/train_data\\\\train_data_0.pq', 'G:/ds-junior/final_work_ds/train_data\\\\train_data_1.pq', 'G:/ds-junior/final_work_ds/train_data\\\\train_data_10.pq', 'G:/ds-junior/final_work_ds/train_data\\\\train_data_11.pq', 'G:/ds-junior/final_work_ds/train_data\\\\train_data_2.pq', 'G:/ds-junior/final_work_ds/train_data\\\\train_data_3.pq', 'G:/ds-junior/final_work_ds/train_data\\\\train_data_4.pq', 'G:/ds-junior/final_work_ds/train_data\\\\train_data_5.pq', 'G:/ds-junior/final_work_ds/train_data\\\\train_data_6.pq', 'G:/ds-junior/final_work_ds/train_data\\\\train_data_7.pq', 'G:/ds-junior/final_work_ds/train_data\\\\train_data_8.pq', 'G:/ds-junior/final_work_ds/train_data\\\\train_data_9.pq', 'G:/ds-junior/final_work_ds/train_data\\\\train_target.csv']\n"
     ]
    },
    {
     "data": {
      "text/plain": [
       "Reading dataset with pandas:   0%|          | 0/2 [00:00<?, ?it/s]"
      ],
      "application/vnd.jupyter.widget-view+json": {
       "version_major": 2,
       "version_minor": 0,
       "model_id": "701575ff6c4646a9aeacd3ca578b7b2a"
      }
     },
     "metadata": {},
     "output_type": "display_data"
    },
    {
     "name": "stdout",
     "output_type": "stream",
     "text": [
      "chunk_path G:/ds-junior/final_work_ds/train_data\\train_data_2.pq\n",
      "chunk_path G:/ds-junior/final_work_ds/train_data\\train_data_3.pq\n",
      "['G:/ds-junior/final_work_ds/train_data\\\\train_data_0.pq', 'G:/ds-junior/final_work_ds/train_data\\\\train_data_1.pq', 'G:/ds-junior/final_work_ds/train_data\\\\train_data_10.pq', 'G:/ds-junior/final_work_ds/train_data\\\\train_data_11.pq', 'G:/ds-junior/final_work_ds/train_data\\\\train_data_2.pq', 'G:/ds-junior/final_work_ds/train_data\\\\train_data_3.pq', 'G:/ds-junior/final_work_ds/train_data\\\\train_data_4.pq', 'G:/ds-junior/final_work_ds/train_data\\\\train_data_5.pq', 'G:/ds-junior/final_work_ds/train_data\\\\train_data_6.pq', 'G:/ds-junior/final_work_ds/train_data\\\\train_data_7.pq', 'G:/ds-junior/final_work_ds/train_data\\\\train_data_8.pq', 'G:/ds-junior/final_work_ds/train_data\\\\train_data_9.pq', 'G:/ds-junior/final_work_ds/train_data\\\\train_target.csv']\n"
     ]
    },
    {
     "data": {
      "text/plain": [
       "Reading dataset with pandas:   0%|          | 0/2 [00:00<?, ?it/s]"
      ],
      "application/vnd.jupyter.widget-view+json": {
       "version_major": 2,
       "version_minor": 0,
       "model_id": "fe39ada7ef9c455b95e74f47abbf13d6"
      }
     },
     "metadata": {},
     "output_type": "display_data"
    },
    {
     "name": "stdout",
     "output_type": "stream",
     "text": [
      "chunk_path G:/ds-junior/final_work_ds/train_data\\train_data_4.pq\n",
      "chunk_path G:/ds-junior/final_work_ds/train_data\\train_data_5.pq\n",
      "['G:/ds-junior/final_work_ds/train_data\\\\train_data_0.pq', 'G:/ds-junior/final_work_ds/train_data\\\\train_data_1.pq', 'G:/ds-junior/final_work_ds/train_data\\\\train_data_10.pq', 'G:/ds-junior/final_work_ds/train_data\\\\train_data_11.pq', 'G:/ds-junior/final_work_ds/train_data\\\\train_data_2.pq', 'G:/ds-junior/final_work_ds/train_data\\\\train_data_3.pq', 'G:/ds-junior/final_work_ds/train_data\\\\train_data_4.pq', 'G:/ds-junior/final_work_ds/train_data\\\\train_data_5.pq', 'G:/ds-junior/final_work_ds/train_data\\\\train_data_6.pq', 'G:/ds-junior/final_work_ds/train_data\\\\train_data_7.pq', 'G:/ds-junior/final_work_ds/train_data\\\\train_data_8.pq', 'G:/ds-junior/final_work_ds/train_data\\\\train_data_9.pq', 'G:/ds-junior/final_work_ds/train_data\\\\train_target.csv']\n"
     ]
    },
    {
     "data": {
      "text/plain": [
       "Reading dataset with pandas:   0%|          | 0/2 [00:00<?, ?it/s]"
      ],
      "application/vnd.jupyter.widget-view+json": {
       "version_major": 2,
       "version_minor": 0,
       "model_id": "863b9fe1ad904d9587d5bec1b7b18f91"
      }
     },
     "metadata": {},
     "output_type": "display_data"
    },
    {
     "name": "stdout",
     "output_type": "stream",
     "text": [
      "chunk_path G:/ds-junior/final_work_ds/train_data\\train_data_6.pq\n",
      "chunk_path G:/ds-junior/final_work_ds/train_data\\train_data_7.pq\n",
      "['G:/ds-junior/final_work_ds/train_data\\\\train_data_0.pq', 'G:/ds-junior/final_work_ds/train_data\\\\train_data_1.pq', 'G:/ds-junior/final_work_ds/train_data\\\\train_data_10.pq', 'G:/ds-junior/final_work_ds/train_data\\\\train_data_11.pq', 'G:/ds-junior/final_work_ds/train_data\\\\train_data_2.pq', 'G:/ds-junior/final_work_ds/train_data\\\\train_data_3.pq', 'G:/ds-junior/final_work_ds/train_data\\\\train_data_4.pq', 'G:/ds-junior/final_work_ds/train_data\\\\train_data_5.pq', 'G:/ds-junior/final_work_ds/train_data\\\\train_data_6.pq', 'G:/ds-junior/final_work_ds/train_data\\\\train_data_7.pq', 'G:/ds-junior/final_work_ds/train_data\\\\train_data_8.pq', 'G:/ds-junior/final_work_ds/train_data\\\\train_data_9.pq', 'G:/ds-junior/final_work_ds/train_data\\\\train_target.csv']\n"
     ]
    },
    {
     "data": {
      "text/plain": [
       "Reading dataset with pandas:   0%|          | 0/2 [00:00<?, ?it/s]"
      ],
      "application/vnd.jupyter.widget-view+json": {
       "version_major": 2,
       "version_minor": 0,
       "model_id": "c88e1d0f57b948b998082ea45a1982c4"
      }
     },
     "metadata": {},
     "output_type": "display_data"
    },
    {
     "name": "stdout",
     "output_type": "stream",
     "text": [
      "chunk_path G:/ds-junior/final_work_ds/train_data\\train_data_8.pq\n",
      "chunk_path G:/ds-junior/final_work_ds/train_data\\train_data_9.pq\n"
     ]
    }
   ],
   "execution_count": 5
  },
  {
   "metadata": {
    "ExecuteTime": {
     "end_time": "2024-06-10T15:35:46.986376Z",
     "start_time": "2024-06-10T15:35:46.969817Z"
    }
   },
   "cell_type": "code",
   "source": [
    "#пример полученных данных\n",
    "pd.set_option('display.max_columns', None)\n",
    "data.head()"
   ],
   "id": "945793a1d75eff0d",
   "outputs": [
    {
     "data": {
      "text/plain": [
       "   id  rn  pre_since_opened  pre_since_confirmed  pre_pterm  pre_fterm  \\\n",
       "0   0   1                18                    9          2          3   \n",
       "1   0   2                18                    9         14         14   \n",
       "2   0   3                18                    9          4          8   \n",
       "3   0   4                 4                    1          9         12   \n",
       "4   0   5                 5                   12         15          2   \n",
       "\n",
       "   pre_till_pclose  pre_till_fclose  pre_loans_credit_limit  \\\n",
       "0               16               10                      11   \n",
       "1               12               12                       0   \n",
       "2                1               11                      11   \n",
       "3               16                7                      12   \n",
       "4               11               12                      10   \n",
       "\n",
       "   pre_loans_next_pay_summ  pre_loans_outstanding  pre_loans_total_overdue  \\\n",
       "0                        3                      3                        0   \n",
       "1                        3                      3                        0   \n",
       "2                        0                      5                        0   \n",
       "3                        2                      3                        0   \n",
       "4                        2                      3                        0   \n",
       "\n",
       "   pre_loans_max_overdue_sum  pre_loans_credit_cost_rate  pre_loans5  \\\n",
       "0                          2                          11           6   \n",
       "1                          2                          11           6   \n",
       "2                          2                           8           6   \n",
       "3                          2                           4           6   \n",
       "4                          2                           4           6   \n",
       "\n",
       "   pre_loans530  pre_loans3060  pre_loans6090  pre_loans90  is_zero_loans5  \\\n",
       "0            16              5              4            8               1   \n",
       "1            16              5              4            8               1   \n",
       "2            16              5              4            8               1   \n",
       "3            16              5              4            8               0   \n",
       "4            16              5              4            8               1   \n",
       "\n",
       "   is_zero_loans530  is_zero_loans3060  is_zero_loans6090  is_zero_loans90  \\\n",
       "0                 1                  1                  1                1   \n",
       "1                 1                  1                  1                1   \n",
       "2                 1                  1                  1                1   \n",
       "3                 1                  1                  1                1   \n",
       "4                 1                  1                  1                1   \n",
       "\n",
       "   pre_util  pre_over2limit  pre_maxover2limit  is_zero_util  \\\n",
       "0        16               2                 17             1   \n",
       "1        16               2                 17             1   \n",
       "2        15               2                 17             0   \n",
       "3        16               2                 17             1   \n",
       "4        16               2                 17             1   \n",
       "\n",
       "   is_zero_over2limit  is_zero_maxover2limit  enc_paym_0  enc_paym_1  \\\n",
       "0                   1                      1           0           0   \n",
       "1                   1                      1           0           0   \n",
       "2                   1                      1           0           0   \n",
       "3                   1                      1           1           0   \n",
       "4                   1                      1           0           0   \n",
       "\n",
       "   enc_paym_2  enc_paym_3  enc_paym_4  enc_paym_5  enc_paym_6  enc_paym_7  \\\n",
       "0           3           3           3           3           3           3   \n",
       "1           0           0           0           0           0           0   \n",
       "2           0           0           0           0           0           0   \n",
       "3           0           0           0           0           0           0   \n",
       "4           0           0           0           0           0           3   \n",
       "\n",
       "   enc_paym_8  enc_paym_9  enc_paym_10  enc_paym_11  enc_paym_12  enc_paym_13  \\\n",
       "0           3           3            3            4            3            3   \n",
       "1           0           0            0            1            0            0   \n",
       "2           0           0            0            1            0            0   \n",
       "3           0           0            0            1            3            3   \n",
       "4           3           3            3            4            3            3   \n",
       "\n",
       "   enc_paym_14  enc_paym_15  enc_paym_16  enc_paym_17  enc_paym_18  \\\n",
       "0            3            3            3            3            3   \n",
       "1            0            0            0            0            0   \n",
       "2            0            0            0            0            0   \n",
       "3            3            3            3            3            3   \n",
       "4            3            3            3            3            3   \n",
       "\n",
       "   enc_paym_19  enc_paym_20  enc_paym_21  enc_paym_22  enc_paym_23  \\\n",
       "0            3            4            3            3            3   \n",
       "1            0            1            0            0            0   \n",
       "2            0            1            0            0            0   \n",
       "3            3            4            3            3            3   \n",
       "4            3            4            3            3            3   \n",
       "\n",
       "   enc_paym_24  enc_loans_account_holder_type  enc_loans_credit_status  \\\n",
       "0            4                              1                        3   \n",
       "1            4                              1                        3   \n",
       "2            4                              1                        2   \n",
       "3            4                              1                        3   \n",
       "4            4                              1                        3   \n",
       "\n",
       "   enc_loans_credit_type  enc_loans_account_cur  pclose_flag  fclose_flag  \n",
       "0                      4                      1            0            0  \n",
       "1                      4                      1            0            0  \n",
       "2                      3                      1            1            1  \n",
       "3                      1                      1            0            0  \n",
       "4                      4                      1            0            0  "
      ],
      "text/html": [
       "<div>\n",
       "<style scoped>\n",
       "    .dataframe tbody tr th:only-of-type {\n",
       "        vertical-align: middle;\n",
       "    }\n",
       "\n",
       "    .dataframe tbody tr th {\n",
       "        vertical-align: top;\n",
       "    }\n",
       "\n",
       "    .dataframe thead th {\n",
       "        text-align: right;\n",
       "    }\n",
       "</style>\n",
       "<table border=\"1\" class=\"dataframe\">\n",
       "  <thead>\n",
       "    <tr style=\"text-align: right;\">\n",
       "      <th></th>\n",
       "      <th>id</th>\n",
       "      <th>rn</th>\n",
       "      <th>pre_since_opened</th>\n",
       "      <th>pre_since_confirmed</th>\n",
       "      <th>pre_pterm</th>\n",
       "      <th>pre_fterm</th>\n",
       "      <th>pre_till_pclose</th>\n",
       "      <th>pre_till_fclose</th>\n",
       "      <th>pre_loans_credit_limit</th>\n",
       "      <th>pre_loans_next_pay_summ</th>\n",
       "      <th>pre_loans_outstanding</th>\n",
       "      <th>pre_loans_total_overdue</th>\n",
       "      <th>pre_loans_max_overdue_sum</th>\n",
       "      <th>pre_loans_credit_cost_rate</th>\n",
       "      <th>pre_loans5</th>\n",
       "      <th>pre_loans530</th>\n",
       "      <th>pre_loans3060</th>\n",
       "      <th>pre_loans6090</th>\n",
       "      <th>pre_loans90</th>\n",
       "      <th>is_zero_loans5</th>\n",
       "      <th>is_zero_loans530</th>\n",
       "      <th>is_zero_loans3060</th>\n",
       "      <th>is_zero_loans6090</th>\n",
       "      <th>is_zero_loans90</th>\n",
       "      <th>pre_util</th>\n",
       "      <th>pre_over2limit</th>\n",
       "      <th>pre_maxover2limit</th>\n",
       "      <th>is_zero_util</th>\n",
       "      <th>is_zero_over2limit</th>\n",
       "      <th>is_zero_maxover2limit</th>\n",
       "      <th>enc_paym_0</th>\n",
       "      <th>enc_paym_1</th>\n",
       "      <th>enc_paym_2</th>\n",
       "      <th>enc_paym_3</th>\n",
       "      <th>enc_paym_4</th>\n",
       "      <th>enc_paym_5</th>\n",
       "      <th>enc_paym_6</th>\n",
       "      <th>enc_paym_7</th>\n",
       "      <th>enc_paym_8</th>\n",
       "      <th>enc_paym_9</th>\n",
       "      <th>enc_paym_10</th>\n",
       "      <th>enc_paym_11</th>\n",
       "      <th>enc_paym_12</th>\n",
       "      <th>enc_paym_13</th>\n",
       "      <th>enc_paym_14</th>\n",
       "      <th>enc_paym_15</th>\n",
       "      <th>enc_paym_16</th>\n",
       "      <th>enc_paym_17</th>\n",
       "      <th>enc_paym_18</th>\n",
       "      <th>enc_paym_19</th>\n",
       "      <th>enc_paym_20</th>\n",
       "      <th>enc_paym_21</th>\n",
       "      <th>enc_paym_22</th>\n",
       "      <th>enc_paym_23</th>\n",
       "      <th>enc_paym_24</th>\n",
       "      <th>enc_loans_account_holder_type</th>\n",
       "      <th>enc_loans_credit_status</th>\n",
       "      <th>enc_loans_credit_type</th>\n",
       "      <th>enc_loans_account_cur</th>\n",
       "      <th>pclose_flag</th>\n",
       "      <th>fclose_flag</th>\n",
       "    </tr>\n",
       "  </thead>\n",
       "  <tbody>\n",
       "    <tr>\n",
       "      <th>0</th>\n",
       "      <td>0</td>\n",
       "      <td>1</td>\n",
       "      <td>18</td>\n",
       "      <td>9</td>\n",
       "      <td>2</td>\n",
       "      <td>3</td>\n",
       "      <td>16</td>\n",
       "      <td>10</td>\n",
       "      <td>11</td>\n",
       "      <td>3</td>\n",
       "      <td>3</td>\n",
       "      <td>0</td>\n",
       "      <td>2</td>\n",
       "      <td>11</td>\n",
       "      <td>6</td>\n",
       "      <td>16</td>\n",
       "      <td>5</td>\n",
       "      <td>4</td>\n",
       "      <td>8</td>\n",
       "      <td>1</td>\n",
       "      <td>1</td>\n",
       "      <td>1</td>\n",
       "      <td>1</td>\n",
       "      <td>1</td>\n",
       "      <td>16</td>\n",
       "      <td>2</td>\n",
       "      <td>17</td>\n",
       "      <td>1</td>\n",
       "      <td>1</td>\n",
       "      <td>1</td>\n",
       "      <td>0</td>\n",
       "      <td>0</td>\n",
       "      <td>3</td>\n",
       "      <td>3</td>\n",
       "      <td>3</td>\n",
       "      <td>3</td>\n",
       "      <td>3</td>\n",
       "      <td>3</td>\n",
       "      <td>3</td>\n",
       "      <td>3</td>\n",
       "      <td>3</td>\n",
       "      <td>4</td>\n",
       "      <td>3</td>\n",
       "      <td>3</td>\n",
       "      <td>3</td>\n",
       "      <td>3</td>\n",
       "      <td>3</td>\n",
       "      <td>3</td>\n",
       "      <td>3</td>\n",
       "      <td>3</td>\n",
       "      <td>4</td>\n",
       "      <td>3</td>\n",
       "      <td>3</td>\n",
       "      <td>3</td>\n",
       "      <td>4</td>\n",
       "      <td>1</td>\n",
       "      <td>3</td>\n",
       "      <td>4</td>\n",
       "      <td>1</td>\n",
       "      <td>0</td>\n",
       "      <td>0</td>\n",
       "    </tr>\n",
       "    <tr>\n",
       "      <th>1</th>\n",
       "      <td>0</td>\n",
       "      <td>2</td>\n",
       "      <td>18</td>\n",
       "      <td>9</td>\n",
       "      <td>14</td>\n",
       "      <td>14</td>\n",
       "      <td>12</td>\n",
       "      <td>12</td>\n",
       "      <td>0</td>\n",
       "      <td>3</td>\n",
       "      <td>3</td>\n",
       "      <td>0</td>\n",
       "      <td>2</td>\n",
       "      <td>11</td>\n",
       "      <td>6</td>\n",
       "      <td>16</td>\n",
       "      <td>5</td>\n",
       "      <td>4</td>\n",
       "      <td>8</td>\n",
       "      <td>1</td>\n",
       "      <td>1</td>\n",
       "      <td>1</td>\n",
       "      <td>1</td>\n",
       "      <td>1</td>\n",
       "      <td>16</td>\n",
       "      <td>2</td>\n",
       "      <td>17</td>\n",
       "      <td>1</td>\n",
       "      <td>1</td>\n",
       "      <td>1</td>\n",
       "      <td>0</td>\n",
       "      <td>0</td>\n",
       "      <td>0</td>\n",
       "      <td>0</td>\n",
       "      <td>0</td>\n",
       "      <td>0</td>\n",
       "      <td>0</td>\n",
       "      <td>0</td>\n",
       "      <td>0</td>\n",
       "      <td>0</td>\n",
       "      <td>0</td>\n",
       "      <td>1</td>\n",
       "      <td>0</td>\n",
       "      <td>0</td>\n",
       "      <td>0</td>\n",
       "      <td>0</td>\n",
       "      <td>0</td>\n",
       "      <td>0</td>\n",
       "      <td>0</td>\n",
       "      <td>0</td>\n",
       "      <td>1</td>\n",
       "      <td>0</td>\n",
       "      <td>0</td>\n",
       "      <td>0</td>\n",
       "      <td>4</td>\n",
       "      <td>1</td>\n",
       "      <td>3</td>\n",
       "      <td>4</td>\n",
       "      <td>1</td>\n",
       "      <td>0</td>\n",
       "      <td>0</td>\n",
       "    </tr>\n",
       "    <tr>\n",
       "      <th>2</th>\n",
       "      <td>0</td>\n",
       "      <td>3</td>\n",
       "      <td>18</td>\n",
       "      <td>9</td>\n",
       "      <td>4</td>\n",
       "      <td>8</td>\n",
       "      <td>1</td>\n",
       "      <td>11</td>\n",
       "      <td>11</td>\n",
       "      <td>0</td>\n",
       "      <td>5</td>\n",
       "      <td>0</td>\n",
       "      <td>2</td>\n",
       "      <td>8</td>\n",
       "      <td>6</td>\n",
       "      <td>16</td>\n",
       "      <td>5</td>\n",
       "      <td>4</td>\n",
       "      <td>8</td>\n",
       "      <td>1</td>\n",
       "      <td>1</td>\n",
       "      <td>1</td>\n",
       "      <td>1</td>\n",
       "      <td>1</td>\n",
       "      <td>15</td>\n",
       "      <td>2</td>\n",
       "      <td>17</td>\n",
       "      <td>0</td>\n",
       "      <td>1</td>\n",
       "      <td>1</td>\n",
       "      <td>0</td>\n",
       "      <td>0</td>\n",
       "      <td>0</td>\n",
       "      <td>0</td>\n",
       "      <td>0</td>\n",
       "      <td>0</td>\n",
       "      <td>0</td>\n",
       "      <td>0</td>\n",
       "      <td>0</td>\n",
       "      <td>0</td>\n",
       "      <td>0</td>\n",
       "      <td>1</td>\n",
       "      <td>0</td>\n",
       "      <td>0</td>\n",
       "      <td>0</td>\n",
       "      <td>0</td>\n",
       "      <td>0</td>\n",
       "      <td>0</td>\n",
       "      <td>0</td>\n",
       "      <td>0</td>\n",
       "      <td>1</td>\n",
       "      <td>0</td>\n",
       "      <td>0</td>\n",
       "      <td>0</td>\n",
       "      <td>4</td>\n",
       "      <td>1</td>\n",
       "      <td>2</td>\n",
       "      <td>3</td>\n",
       "      <td>1</td>\n",
       "      <td>1</td>\n",
       "      <td>1</td>\n",
       "    </tr>\n",
       "    <tr>\n",
       "      <th>3</th>\n",
       "      <td>0</td>\n",
       "      <td>4</td>\n",
       "      <td>4</td>\n",
       "      <td>1</td>\n",
       "      <td>9</td>\n",
       "      <td>12</td>\n",
       "      <td>16</td>\n",
       "      <td>7</td>\n",
       "      <td>12</td>\n",
       "      <td>2</td>\n",
       "      <td>3</td>\n",
       "      <td>0</td>\n",
       "      <td>2</td>\n",
       "      <td>4</td>\n",
       "      <td>6</td>\n",
       "      <td>16</td>\n",
       "      <td>5</td>\n",
       "      <td>4</td>\n",
       "      <td>8</td>\n",
       "      <td>0</td>\n",
       "      <td>1</td>\n",
       "      <td>1</td>\n",
       "      <td>1</td>\n",
       "      <td>1</td>\n",
       "      <td>16</td>\n",
       "      <td>2</td>\n",
       "      <td>17</td>\n",
       "      <td>1</td>\n",
       "      <td>1</td>\n",
       "      <td>1</td>\n",
       "      <td>1</td>\n",
       "      <td>0</td>\n",
       "      <td>0</td>\n",
       "      <td>0</td>\n",
       "      <td>0</td>\n",
       "      <td>0</td>\n",
       "      <td>0</td>\n",
       "      <td>0</td>\n",
       "      <td>0</td>\n",
       "      <td>0</td>\n",
       "      <td>0</td>\n",
       "      <td>1</td>\n",
       "      <td>3</td>\n",
       "      <td>3</td>\n",
       "      <td>3</td>\n",
       "      <td>3</td>\n",
       "      <td>3</td>\n",
       "      <td>3</td>\n",
       "      <td>3</td>\n",
       "      <td>3</td>\n",
       "      <td>4</td>\n",
       "      <td>3</td>\n",
       "      <td>3</td>\n",
       "      <td>3</td>\n",
       "      <td>4</td>\n",
       "      <td>1</td>\n",
       "      <td>3</td>\n",
       "      <td>1</td>\n",
       "      <td>1</td>\n",
       "      <td>0</td>\n",
       "      <td>0</td>\n",
       "    </tr>\n",
       "    <tr>\n",
       "      <th>4</th>\n",
       "      <td>0</td>\n",
       "      <td>5</td>\n",
       "      <td>5</td>\n",
       "      <td>12</td>\n",
       "      <td>15</td>\n",
       "      <td>2</td>\n",
       "      <td>11</td>\n",
       "      <td>12</td>\n",
       "      <td>10</td>\n",
       "      <td>2</td>\n",
       "      <td>3</td>\n",
       "      <td>0</td>\n",
       "      <td>2</td>\n",
       "      <td>4</td>\n",
       "      <td>6</td>\n",
       "      <td>16</td>\n",
       "      <td>5</td>\n",
       "      <td>4</td>\n",
       "      <td>8</td>\n",
       "      <td>1</td>\n",
       "      <td>1</td>\n",
       "      <td>1</td>\n",
       "      <td>1</td>\n",
       "      <td>1</td>\n",
       "      <td>16</td>\n",
       "      <td>2</td>\n",
       "      <td>17</td>\n",
       "      <td>1</td>\n",
       "      <td>1</td>\n",
       "      <td>1</td>\n",
       "      <td>0</td>\n",
       "      <td>0</td>\n",
       "      <td>0</td>\n",
       "      <td>0</td>\n",
       "      <td>0</td>\n",
       "      <td>0</td>\n",
       "      <td>0</td>\n",
       "      <td>3</td>\n",
       "      <td>3</td>\n",
       "      <td>3</td>\n",
       "      <td>3</td>\n",
       "      <td>4</td>\n",
       "      <td>3</td>\n",
       "      <td>3</td>\n",
       "      <td>3</td>\n",
       "      <td>3</td>\n",
       "      <td>3</td>\n",
       "      <td>3</td>\n",
       "      <td>3</td>\n",
       "      <td>3</td>\n",
       "      <td>4</td>\n",
       "      <td>3</td>\n",
       "      <td>3</td>\n",
       "      <td>3</td>\n",
       "      <td>4</td>\n",
       "      <td>1</td>\n",
       "      <td>3</td>\n",
       "      <td>4</td>\n",
       "      <td>1</td>\n",
       "      <td>0</td>\n",
       "      <td>0</td>\n",
       "    </tr>\n",
       "  </tbody>\n",
       "</table>\n",
       "</div>"
      ]
     },
     "execution_count": 6,
     "metadata": {},
     "output_type": "execute_result"
    }
   ],
   "execution_count": 6
  },
  {
   "metadata": {},
   "cell_type": "markdown",
   "source": [
    "# Объединение данных в датасет"
   ],
   "id": "c8fb5988fd9d5b32"
  },
  {
   "metadata": {
    "ExecuteTime": {
     "end_time": "2024-06-10T15:35:49.905096Z",
     "start_time": "2024-06-10T15:35:49.646747Z"
    }
   },
   "cell_type": "code",
   "source": [
    "# значения целевой переменной (смерджить с фичами по id)\n",
    "targets = pd.read_csv('G:/ds-junior/final_work_ds/train_data/train_target.csv')\n",
    "targets.head()"
   ],
   "id": "e87fc54daa021185",
   "outputs": [
    {
     "data": {
      "text/plain": [
       "   id  flag\n",
       "0   0     0\n",
       "1   1     0\n",
       "2   2     0\n",
       "3   3     0\n",
       "4   4     0"
      ],
      "text/html": [
       "<div>\n",
       "<style scoped>\n",
       "    .dataframe tbody tr th:only-of-type {\n",
       "        vertical-align: middle;\n",
       "    }\n",
       "\n",
       "    .dataframe tbody tr th {\n",
       "        vertical-align: top;\n",
       "    }\n",
       "\n",
       "    .dataframe thead th {\n",
       "        text-align: right;\n",
       "    }\n",
       "</style>\n",
       "<table border=\"1\" class=\"dataframe\">\n",
       "  <thead>\n",
       "    <tr style=\"text-align: right;\">\n",
       "      <th></th>\n",
       "      <th>id</th>\n",
       "      <th>flag</th>\n",
       "    </tr>\n",
       "  </thead>\n",
       "  <tbody>\n",
       "    <tr>\n",
       "      <th>0</th>\n",
       "      <td>0</td>\n",
       "      <td>0</td>\n",
       "    </tr>\n",
       "    <tr>\n",
       "      <th>1</th>\n",
       "      <td>1</td>\n",
       "      <td>0</td>\n",
       "    </tr>\n",
       "    <tr>\n",
       "      <th>2</th>\n",
       "      <td>2</td>\n",
       "      <td>0</td>\n",
       "    </tr>\n",
       "    <tr>\n",
       "      <th>3</th>\n",
       "      <td>3</td>\n",
       "      <td>0</td>\n",
       "    </tr>\n",
       "    <tr>\n",
       "      <th>4</th>\n",
       "      <td>4</td>\n",
       "      <td>0</td>\n",
       "    </tr>\n",
       "  </tbody>\n",
       "</table>\n",
       "</div>"
      ]
     },
     "execution_count": 7,
     "metadata": {},
     "output_type": "execute_result"
    }
   ],
   "execution_count": 7
  },
  {
   "metadata": {},
   "cell_type": "markdown",
   "source": "",
   "id": "e917484b9a26b49f"
  },
  {
   "metadata": {
    "ExecuteTime": {
     "end_time": "2024-06-10T15:35:52.015670Z",
     "start_time": "2024-06-10T15:35:52.011492Z"
    }
   },
   "cell_type": "code",
   "source": "data.shape",
   "id": "86bc9a2dbbadc30b",
   "outputs": [
    {
     "data": {
      "text/plain": [
       "(26162717, 61)"
      ]
     },
     "execution_count": 8,
     "metadata": {},
     "output_type": "execute_result"
    }
   ],
   "execution_count": 8
  },
  {
   "metadata": {
    "ExecuteTime": {
     "end_time": "2024-06-10T15:35:52.583559Z",
     "start_time": "2024-06-10T15:35:52.579654Z"
    }
   },
   "cell_type": "code",
   "source": "targets.shape",
   "id": "3d90f67025f1e449",
   "outputs": [
    {
     "data": {
      "text/plain": [
       "(3000000, 2)"
      ]
     },
     "execution_count": 9,
     "metadata": {},
     "output_type": "execute_result"
    }
   ],
   "execution_count": 9
  },
  {
   "metadata": {
    "ExecuteTime": {
     "end_time": "2024-06-10T15:35:56.137084Z",
     "start_time": "2024-06-10T15:35:53.315728Z"
    }
   },
   "cell_type": "code",
   "source": "df = data.merge(targets, on='id')",
   "id": "654daccc837da6f5",
   "outputs": [],
   "execution_count": 10
  },
  {
   "metadata": {
    "ExecuteTime": {
     "end_time": "2024-06-10T15:36:05.583070Z",
     "start_time": "2024-06-10T15:36:05.579630Z"
    }
   },
   "cell_type": "code",
   "source": "df.shape",
   "id": "6a416df5c50b7359",
   "outputs": [
    {
     "data": {
      "text/plain": [
       "(26162717, 62)"
      ]
     },
     "execution_count": 11,
     "metadata": {},
     "output_type": "execute_result"
    }
   ],
   "execution_count": 11
  },
  {
   "metadata": {},
   "cell_type": "markdown",
   "source": [
    "# Описание признаков датасета"
   ],
   "id": "134ed67f3d4bba7"
  },
  {
   "metadata": {},
   "cell_type": "markdown",
   "source": [
    "* id - Идентификатор заявки. Заявки пронумерованы так, что большему номеру соответствует более поздняя дата заявки.\n",
    "* rn - Порядковый номер кредитного продукта в кредитной истории. Большему номеру соответствует продукт с более поздней датой открытия.\n",
    "* pre_since_opened - Дней с даты открытия кредита до даты сбора данных (бинаризовано*)\n",
    "* pre_since_confirmed\t- Дней с даты подтверждения информации по кредиту до даты сбора данных (бинаризовано*)\n",
    "* pre_pterm - Плановое количество дней с даты открытия кредита до даты закрытия (бинаризовано*)\n",
    "* pre_fterm - Фактическое количество дней с даты открытия кредита до даты закрытия (бинаризовано*)\n",
    "* pre_till_pclose - Плановое количество дней с даты сбора данных до даты закрытия кредита (бинаризовано*)\n",
    "* pre_till_fclose - Фактическое количество дней с даты сбора данных до даты закрытия кредита (бинаризовано*)\n",
    "* pre_loans_credit_limit - Кредитный лимит (бинаризовано*)\n",
    "* pre_loans_next_pay_summ - Сумма следующего платежа по кредиту (бинаризовано*)\n",
    "* pre_loans_outstanding - Оставшаяся невыплаченная сумма кредита (бинаризовано*)\n",
    "* pre_loans_total_overdue - Текущая просроченная задолженность (бинаризовано*)\n",
    "* pre_loans_max_overdue_sum - Максимальная просроченная задолженность (бинаризовано*)\n",
    "* pre_loans_credit_cost_rate - Полная стоимость кредита (бинаризовано*)\n",
    "* pre_loans5 - Число просрочек до 5 дней (бинаризовано*)\n",
    "* pre_loans530 - Число просрочек от 5 до 30 дней (бинаризовано*)\n",
    "* pre_loans3060 - Число просрочек от 30 до 60 дней (бинаризовано*)\n",
    "* pre_loans6090 - Число просрочек от 60 до 90 дней (бинаризовано*)\n",
    "* pre_loans90\t- Число просрочек более, чем на 90 дней (бинаризовано*)\n",
    "* is_zero_loans_5\t- Флаг: нет просрочек до 5 дней\n",
    "* is_zero_loans_530 - Флаг: нет просрочек от 5 до 30 дней\n",
    "* is_zero_loans_3060 - Флаг: нет просрочек от 30 до 60 дней\n",
    "* is_zero_loans_6090 - Флаг: нет просрочек от 60 до 90 дней\n",
    "* is_zero_loans90 - Флаг: нет просрочек более, чем на 90 дней\n",
    "* pre_util - Отношение оставшейся невыплаченной суммы кредита к кредитному лимиту (бинаризовано*)\n",
    "* pre_over2limit - Отношение текущей просроченной задолженности к кредитному лимиту (бинаризовано*)\n",
    "* pre_maxover2limit - Отношенение максимальной просроченной задолженности к кредитному лимиту (бинаризовано*)\n",
    "* is_zero_util - Флаг: отношение оставшейся невыплаченной суммы кредита к кредитному лимиту равняется 0\n",
    "* is_zero_over2limit - Флаг: отношение текущей просроченной задолженности к кредитному лимиту равняется 0\n",
    "* is_zero_maxover2limit - Флаг: отношение максимальной просроченной задолженности к кредитному лимиту равняется 0\n",
    "* enc_paym_{0..N} - Статусы ежемесячных платежей за последние N месяцев (закодировано**)\n",
    "* enc_loans_account_holder_type - Тип отношения к кредиту (закодировано**)\n",
    "* enc_loans_credit_status\t- Статус кредита (закодировано**)\n",
    "* enc_loans_account_cur - Валюта кредита (закодировано**)\n",
    "* enc_loans_credit_type - Тип кредита (закодировано**)\n",
    "* pclose_flag - Флаг: плановое количество дней с даты открытия кредита до даты закрытия не определено\n",
    "* fclose_flag - Флаг: фактическое количество дней с даты открытия кредита до даты закрытия не определено"
   ],
   "id": "8a449e6a51805c2f"
  },
  {
   "metadata": {},
   "cell_type": "markdown",
   "source": [
    "* *область значений поля разбивается на N непересекающихся промежутков, каждому промежутку случайным образом ставится в соответствие уникальный номер от 0 до N-1, значение поля заменяется номером промежутка, которому оно принадлежит"
   ],
   "id": "87e649a6bc9c777c"
  },
  {
   "metadata": {},
   "cell_type": "markdown",
   "source": [
    "* **каждому уникальному значению поля случайным образом ставится в соответствие уникальный номер от 0 до K, значение поля заменяется номером этого значения"
   ],
   "id": "81de0e1625cfd19a"
  },
  {
   "metadata": {},
   "cell_type": "markdown",
   "source": "# Информация о датасете",
   "id": "bac5cb2580ec5072"
  },
  {
   "metadata": {
    "ExecuteTime": {
     "end_time": "2024-06-10T15:44:17.943341Z",
     "start_time": "2024-06-10T15:44:17.938982Z"
    }
   },
   "cell_type": "code",
   "source": [
    "row_0 = df.iloc[0]\n",
    "columns_with_first_values = [f'\"{col}\": {val},' for col, val in row_0.items()]\n",
    "columns_with_first_values[-1] = columns_with_first_values[-1].rstrip(',')\n",
    "for item in columns_with_first_values:\n",
    "    print(item)"
   ],
   "id": "cb6d325f171078a9",
   "outputs": [
    {
     "name": "stdout",
     "output_type": "stream",
     "text": [
      "\"id\": 0,\n",
      "\"rn\": 1,\n",
      "\"pre_since_opened\": 18,\n",
      "\"pre_since_confirmed\": 9,\n",
      "\"pre_pterm\": 2,\n",
      "\"pre_fterm\": 3,\n",
      "\"pre_till_pclose\": 16,\n",
      "\"pre_till_fclose\": 10,\n",
      "\"pre_loans_credit_limit\": 11,\n",
      "\"pre_loans_next_pay_summ\": 3,\n",
      "\"pre_loans_outstanding\": 3,\n",
      "\"pre_loans_total_overdue\": 0,\n",
      "\"pre_loans_max_overdue_sum\": 2,\n",
      "\"pre_loans_credit_cost_rate\": 11,\n",
      "\"pre_loans5\": 6,\n",
      "\"pre_loans530\": 16,\n",
      "\"pre_loans3060\": 5,\n",
      "\"pre_loans6090\": 4,\n",
      "\"pre_loans90\": 8,\n",
      "\"is_zero_loans5\": 1,\n",
      "\"is_zero_loans530\": 1,\n",
      "\"is_zero_loans3060\": 1,\n",
      "\"is_zero_loans6090\": 1,\n",
      "\"is_zero_loans90\": 1,\n",
      "\"pre_util\": 16,\n",
      "\"pre_over2limit\": 2,\n",
      "\"pre_maxover2limit\": 17,\n",
      "\"is_zero_util\": 1,\n",
      "\"is_zero_over2limit\": 1,\n",
      "\"is_zero_maxover2limit\": 1,\n",
      "\"enc_paym_0\": 0,\n",
      "\"enc_paym_1\": 0,\n",
      "\"enc_paym_2\": 3,\n",
      "\"enc_paym_3\": 3,\n",
      "\"enc_paym_4\": 3,\n",
      "\"enc_paym_5\": 3,\n",
      "\"enc_paym_6\": 3,\n",
      "\"enc_paym_7\": 3,\n",
      "\"enc_paym_8\": 3,\n",
      "\"enc_paym_9\": 3,\n",
      "\"enc_paym_10\": 3,\n",
      "\"enc_paym_11\": 4,\n",
      "\"enc_paym_12\": 3,\n",
      "\"enc_paym_13\": 3,\n",
      "\"enc_paym_14\": 3,\n",
      "\"enc_paym_15\": 3,\n",
      "\"enc_paym_16\": 3,\n",
      "\"enc_paym_17\": 3,\n",
      "\"enc_paym_18\": 3,\n",
      "\"enc_paym_19\": 3,\n",
      "\"enc_paym_20\": 4,\n",
      "\"enc_paym_21\": 3,\n",
      "\"enc_paym_22\": 3,\n",
      "\"enc_paym_23\": 3,\n",
      "\"enc_paym_24\": 4,\n",
      "\"enc_loans_account_holder_type\": 1,\n",
      "\"enc_loans_credit_status\": 3,\n",
      "\"enc_loans_credit_type\": 4,\n",
      "\"enc_loans_account_cur\": 1,\n",
      "\"pclose_flag\": 0,\n",
      "\"fclose_flag\": 0,\n",
      "\"flag\": 0\n"
     ]
    }
   ],
   "execution_count": 21
  },
  {
   "metadata": {
    "ExecuteTime": {
     "end_time": "2024-06-10T15:44:19.659246Z",
     "start_time": "2024-06-10T15:44:19.655764Z"
    }
   },
   "cell_type": "code",
   "source": [
    "row_1 = df.iloc[1]\n",
    "columns_with_first_values = [f'\"{col}\": {val},' for col, val in row_1.items()]\n",
    "columns_with_first_values[-1] = columns_with_first_values[-1].rstrip(',')\n",
    "for item in columns_with_first_values:\n",
    "    print(item)"
   ],
   "id": "a91032c47b2d2c05",
   "outputs": [
    {
     "name": "stdout",
     "output_type": "stream",
     "text": [
      "\"id\": 0,\n",
      "\"rn\": 2,\n",
      "\"pre_since_opened\": 18,\n",
      "\"pre_since_confirmed\": 9,\n",
      "\"pre_pterm\": 14,\n",
      "\"pre_fterm\": 14,\n",
      "\"pre_till_pclose\": 12,\n",
      "\"pre_till_fclose\": 12,\n",
      "\"pre_loans_credit_limit\": 0,\n",
      "\"pre_loans_next_pay_summ\": 3,\n",
      "\"pre_loans_outstanding\": 3,\n",
      "\"pre_loans_total_overdue\": 0,\n",
      "\"pre_loans_max_overdue_sum\": 2,\n",
      "\"pre_loans_credit_cost_rate\": 11,\n",
      "\"pre_loans5\": 6,\n",
      "\"pre_loans530\": 16,\n",
      "\"pre_loans3060\": 5,\n",
      "\"pre_loans6090\": 4,\n",
      "\"pre_loans90\": 8,\n",
      "\"is_zero_loans5\": 1,\n",
      "\"is_zero_loans530\": 1,\n",
      "\"is_zero_loans3060\": 1,\n",
      "\"is_zero_loans6090\": 1,\n",
      "\"is_zero_loans90\": 1,\n",
      "\"pre_util\": 16,\n",
      "\"pre_over2limit\": 2,\n",
      "\"pre_maxover2limit\": 17,\n",
      "\"is_zero_util\": 1,\n",
      "\"is_zero_over2limit\": 1,\n",
      "\"is_zero_maxover2limit\": 1,\n",
      "\"enc_paym_0\": 0,\n",
      "\"enc_paym_1\": 0,\n",
      "\"enc_paym_2\": 0,\n",
      "\"enc_paym_3\": 0,\n",
      "\"enc_paym_4\": 0,\n",
      "\"enc_paym_5\": 0,\n",
      "\"enc_paym_6\": 0,\n",
      "\"enc_paym_7\": 0,\n",
      "\"enc_paym_8\": 0,\n",
      "\"enc_paym_9\": 0,\n",
      "\"enc_paym_10\": 0,\n",
      "\"enc_paym_11\": 1,\n",
      "\"enc_paym_12\": 0,\n",
      "\"enc_paym_13\": 0,\n",
      "\"enc_paym_14\": 0,\n",
      "\"enc_paym_15\": 0,\n",
      "\"enc_paym_16\": 0,\n",
      "\"enc_paym_17\": 0,\n",
      "\"enc_paym_18\": 0,\n",
      "\"enc_paym_19\": 0,\n",
      "\"enc_paym_20\": 1,\n",
      "\"enc_paym_21\": 0,\n",
      "\"enc_paym_22\": 0,\n",
      "\"enc_paym_23\": 0,\n",
      "\"enc_paym_24\": 4,\n",
      "\"enc_loans_account_holder_type\": 1,\n",
      "\"enc_loans_credit_status\": 3,\n",
      "\"enc_loans_credit_type\": 4,\n",
      "\"enc_loans_account_cur\": 1,\n",
      "\"pclose_flag\": 0,\n",
      "\"fclose_flag\": 0,\n",
      "\"flag\": 0\n"
     ]
    }
   ],
   "execution_count": 22
  },
  {
   "metadata": {
    "ExecuteTime": {
     "end_time": "2024-06-10T15:44:25.953538Z",
     "start_time": "2024-06-10T15:44:25.950290Z"
    }
   },
   "cell_type": "code",
   "source": [
    "row_2 = df.iloc[2]\n",
    "columns_with_first_values = [f'\"{col}\": {val},' for col, val in row_2.items()]\n",
    "columns_with_first_values[-1] = columns_with_first_values[-1].rstrip(',')\n",
    "for item in columns_with_first_values:\n",
    "    print(item)"
   ],
   "id": "55a21e2328e8693f",
   "outputs": [
    {
     "name": "stdout",
     "output_type": "stream",
     "text": [
      "\"id\": 0,\n",
      "\"rn\": 3,\n",
      "\"pre_since_opened\": 18,\n",
      "\"pre_since_confirmed\": 9,\n",
      "\"pre_pterm\": 4,\n",
      "\"pre_fterm\": 8,\n",
      "\"pre_till_pclose\": 1,\n",
      "\"pre_till_fclose\": 11,\n",
      "\"pre_loans_credit_limit\": 11,\n",
      "\"pre_loans_next_pay_summ\": 0,\n",
      "\"pre_loans_outstanding\": 5,\n",
      "\"pre_loans_total_overdue\": 0,\n",
      "\"pre_loans_max_overdue_sum\": 2,\n",
      "\"pre_loans_credit_cost_rate\": 8,\n",
      "\"pre_loans5\": 6,\n",
      "\"pre_loans530\": 16,\n",
      "\"pre_loans3060\": 5,\n",
      "\"pre_loans6090\": 4,\n",
      "\"pre_loans90\": 8,\n",
      "\"is_zero_loans5\": 1,\n",
      "\"is_zero_loans530\": 1,\n",
      "\"is_zero_loans3060\": 1,\n",
      "\"is_zero_loans6090\": 1,\n",
      "\"is_zero_loans90\": 1,\n",
      "\"pre_util\": 15,\n",
      "\"pre_over2limit\": 2,\n",
      "\"pre_maxover2limit\": 17,\n",
      "\"is_zero_util\": 0,\n",
      "\"is_zero_over2limit\": 1,\n",
      "\"is_zero_maxover2limit\": 1,\n",
      "\"enc_paym_0\": 0,\n",
      "\"enc_paym_1\": 0,\n",
      "\"enc_paym_2\": 0,\n",
      "\"enc_paym_3\": 0,\n",
      "\"enc_paym_4\": 0,\n",
      "\"enc_paym_5\": 0,\n",
      "\"enc_paym_6\": 0,\n",
      "\"enc_paym_7\": 0,\n",
      "\"enc_paym_8\": 0,\n",
      "\"enc_paym_9\": 0,\n",
      "\"enc_paym_10\": 0,\n",
      "\"enc_paym_11\": 1,\n",
      "\"enc_paym_12\": 0,\n",
      "\"enc_paym_13\": 0,\n",
      "\"enc_paym_14\": 0,\n",
      "\"enc_paym_15\": 0,\n",
      "\"enc_paym_16\": 0,\n",
      "\"enc_paym_17\": 0,\n",
      "\"enc_paym_18\": 0,\n",
      "\"enc_paym_19\": 0,\n",
      "\"enc_paym_20\": 1,\n",
      "\"enc_paym_21\": 0,\n",
      "\"enc_paym_22\": 0,\n",
      "\"enc_paym_23\": 0,\n",
      "\"enc_paym_24\": 4,\n",
      "\"enc_loans_account_holder_type\": 1,\n",
      "\"enc_loans_credit_status\": 2,\n",
      "\"enc_loans_credit_type\": 3,\n",
      "\"enc_loans_account_cur\": 1,\n",
      "\"pclose_flag\": 1,\n",
      "\"fclose_flag\": 1,\n",
      "\"flag\": 0\n"
     ]
    }
   ],
   "execution_count": 23
  },
  {
   "metadata": {
    "ExecuteTime": {
     "end_time": "2024-06-10T15:44:32.404681Z",
     "start_time": "2024-06-10T15:44:32.400831Z"
    }
   },
   "cell_type": "code",
   "source": [
    "row_3 = df.iloc[3]\n",
    "columns_with_first_values = [f'\"{col}\": {val},' for col, val in row_3.items()]\n",
    "columns_with_first_values[-1] = columns_with_first_values[-1].rstrip(',')\n",
    "for item in columns_with_first_values:\n",
    "    print(item)"
   ],
   "id": "7adc2348f01da49a",
   "outputs": [
    {
     "name": "stdout",
     "output_type": "stream",
     "text": [
      "\"id\": 0,\n",
      "\"rn\": 4,\n",
      "\"pre_since_opened\": 4,\n",
      "\"pre_since_confirmed\": 1,\n",
      "\"pre_pterm\": 9,\n",
      "\"pre_fterm\": 12,\n",
      "\"pre_till_pclose\": 16,\n",
      "\"pre_till_fclose\": 7,\n",
      "\"pre_loans_credit_limit\": 12,\n",
      "\"pre_loans_next_pay_summ\": 2,\n",
      "\"pre_loans_outstanding\": 3,\n",
      "\"pre_loans_total_overdue\": 0,\n",
      "\"pre_loans_max_overdue_sum\": 2,\n",
      "\"pre_loans_credit_cost_rate\": 4,\n",
      "\"pre_loans5\": 6,\n",
      "\"pre_loans530\": 16,\n",
      "\"pre_loans3060\": 5,\n",
      "\"pre_loans6090\": 4,\n",
      "\"pre_loans90\": 8,\n",
      "\"is_zero_loans5\": 0,\n",
      "\"is_zero_loans530\": 1,\n",
      "\"is_zero_loans3060\": 1,\n",
      "\"is_zero_loans6090\": 1,\n",
      "\"is_zero_loans90\": 1,\n",
      "\"pre_util\": 16,\n",
      "\"pre_over2limit\": 2,\n",
      "\"pre_maxover2limit\": 17,\n",
      "\"is_zero_util\": 1,\n",
      "\"is_zero_over2limit\": 1,\n",
      "\"is_zero_maxover2limit\": 1,\n",
      "\"enc_paym_0\": 1,\n",
      "\"enc_paym_1\": 0,\n",
      "\"enc_paym_2\": 0,\n",
      "\"enc_paym_3\": 0,\n",
      "\"enc_paym_4\": 0,\n",
      "\"enc_paym_5\": 0,\n",
      "\"enc_paym_6\": 0,\n",
      "\"enc_paym_7\": 0,\n",
      "\"enc_paym_8\": 0,\n",
      "\"enc_paym_9\": 0,\n",
      "\"enc_paym_10\": 0,\n",
      "\"enc_paym_11\": 1,\n",
      "\"enc_paym_12\": 3,\n",
      "\"enc_paym_13\": 3,\n",
      "\"enc_paym_14\": 3,\n",
      "\"enc_paym_15\": 3,\n",
      "\"enc_paym_16\": 3,\n",
      "\"enc_paym_17\": 3,\n",
      "\"enc_paym_18\": 3,\n",
      "\"enc_paym_19\": 3,\n",
      "\"enc_paym_20\": 4,\n",
      "\"enc_paym_21\": 3,\n",
      "\"enc_paym_22\": 3,\n",
      "\"enc_paym_23\": 3,\n",
      "\"enc_paym_24\": 4,\n",
      "\"enc_loans_account_holder_type\": 1,\n",
      "\"enc_loans_credit_status\": 3,\n",
      "\"enc_loans_credit_type\": 1,\n",
      "\"enc_loans_account_cur\": 1,\n",
      "\"pclose_flag\": 0,\n",
      "\"fclose_flag\": 0,\n",
      "\"flag\": 0\n"
     ]
    }
   ],
   "execution_count": 24
  },
  {
   "metadata": {
    "ExecuteTime": {
     "end_time": "2024-06-10T15:44:36.710655Z",
     "start_time": "2024-06-10T15:44:36.706533Z"
    }
   },
   "cell_type": "code",
   "source": [
    "row_4 = df.iloc[4]\n",
    "columns_with_first_values = [f'\"{col}\": {val},' for col, val in row_4.items()]\n",
    "columns_with_first_values[-1] = columns_with_first_values[-1].rstrip(',')\n",
    "for item in columns_with_first_values:\n",
    "    print(item)"
   ],
   "id": "41ec4f0987522769",
   "outputs": [
    {
     "name": "stdout",
     "output_type": "stream",
     "text": [
      "\"id\": 0,\n",
      "\"rn\": 5,\n",
      "\"pre_since_opened\": 5,\n",
      "\"pre_since_confirmed\": 12,\n",
      "\"pre_pterm\": 15,\n",
      "\"pre_fterm\": 2,\n",
      "\"pre_till_pclose\": 11,\n",
      "\"pre_till_fclose\": 12,\n",
      "\"pre_loans_credit_limit\": 10,\n",
      "\"pre_loans_next_pay_summ\": 2,\n",
      "\"pre_loans_outstanding\": 3,\n",
      "\"pre_loans_total_overdue\": 0,\n",
      "\"pre_loans_max_overdue_sum\": 2,\n",
      "\"pre_loans_credit_cost_rate\": 4,\n",
      "\"pre_loans5\": 6,\n",
      "\"pre_loans530\": 16,\n",
      "\"pre_loans3060\": 5,\n",
      "\"pre_loans6090\": 4,\n",
      "\"pre_loans90\": 8,\n",
      "\"is_zero_loans5\": 1,\n",
      "\"is_zero_loans530\": 1,\n",
      "\"is_zero_loans3060\": 1,\n",
      "\"is_zero_loans6090\": 1,\n",
      "\"is_zero_loans90\": 1,\n",
      "\"pre_util\": 16,\n",
      "\"pre_over2limit\": 2,\n",
      "\"pre_maxover2limit\": 17,\n",
      "\"is_zero_util\": 1,\n",
      "\"is_zero_over2limit\": 1,\n",
      "\"is_zero_maxover2limit\": 1,\n",
      "\"enc_paym_0\": 0,\n",
      "\"enc_paym_1\": 0,\n",
      "\"enc_paym_2\": 0,\n",
      "\"enc_paym_3\": 0,\n",
      "\"enc_paym_4\": 0,\n",
      "\"enc_paym_5\": 0,\n",
      "\"enc_paym_6\": 0,\n",
      "\"enc_paym_7\": 3,\n",
      "\"enc_paym_8\": 3,\n",
      "\"enc_paym_9\": 3,\n",
      "\"enc_paym_10\": 3,\n",
      "\"enc_paym_11\": 4,\n",
      "\"enc_paym_12\": 3,\n",
      "\"enc_paym_13\": 3,\n",
      "\"enc_paym_14\": 3,\n",
      "\"enc_paym_15\": 3,\n",
      "\"enc_paym_16\": 3,\n",
      "\"enc_paym_17\": 3,\n",
      "\"enc_paym_18\": 3,\n",
      "\"enc_paym_19\": 3,\n",
      "\"enc_paym_20\": 4,\n",
      "\"enc_paym_21\": 3,\n",
      "\"enc_paym_22\": 3,\n",
      "\"enc_paym_23\": 3,\n",
      "\"enc_paym_24\": 4,\n",
      "\"enc_loans_account_holder_type\": 1,\n",
      "\"enc_loans_credit_status\": 3,\n",
      "\"enc_loans_credit_type\": 4,\n",
      "\"enc_loans_account_cur\": 1,\n",
      "\"pclose_flag\": 0,\n",
      "\"fclose_flag\": 0,\n",
      "\"flag\": 0\n"
     ]
    }
   ],
   "execution_count": 25
  },
  {
   "metadata": {
    "ExecuteTime": {
     "end_time": "2024-06-10T15:44:44.331605Z",
     "start_time": "2024-06-10T15:44:44.327809Z"
    }
   },
   "cell_type": "code",
   "source": [
    "row_5 = df.iloc[5]\n",
    "columns_with_first_values = [f'\"{col}\": {val},' for col, val in row_5.items()]\n",
    "columns_with_first_values[-1] = columns_with_first_values[-1].rstrip(',')\n",
    "for item in columns_with_first_values:\n",
    "    print(item)"
   ],
   "id": "542e4e0ed77ba202",
   "outputs": [
    {
     "name": "stdout",
     "output_type": "stream",
     "text": [
      "\"id\": 0,\n",
      "\"rn\": 6,\n",
      "\"pre_since_opened\": 5,\n",
      "\"pre_since_confirmed\": 0,\n",
      "\"pre_pterm\": 11,\n",
      "\"pre_fterm\": 8,\n",
      "\"pre_till_pclose\": 12,\n",
      "\"pre_till_fclose\": 11,\n",
      "\"pre_loans_credit_limit\": 4,\n",
      "\"pre_loans_next_pay_summ\": 2,\n",
      "\"pre_loans_outstanding\": 3,\n",
      "\"pre_loans_total_overdue\": 0,\n",
      "\"pre_loans_max_overdue_sum\": 2,\n",
      "\"pre_loans_credit_cost_rate\": 4,\n",
      "\"pre_loans5\": 6,\n",
      "\"pre_loans530\": 16,\n",
      "\"pre_loans3060\": 5,\n",
      "\"pre_loans6090\": 4,\n",
      "\"pre_loans90\": 8,\n",
      "\"is_zero_loans5\": 1,\n",
      "\"is_zero_loans530\": 1,\n",
      "\"is_zero_loans3060\": 1,\n",
      "\"is_zero_loans6090\": 1,\n",
      "\"is_zero_loans90\": 1,\n",
      "\"pre_util\": 9,\n",
      "\"pre_over2limit\": 5,\n",
      "\"pre_maxover2limit\": 4,\n",
      "\"is_zero_util\": 0,\n",
      "\"is_zero_over2limit\": 0,\n",
      "\"is_zero_maxover2limit\": 0,\n",
      "\"enc_paym_0\": 0,\n",
      "\"enc_paym_1\": 0,\n",
      "\"enc_paym_2\": 0,\n",
      "\"enc_paym_3\": 0,\n",
      "\"enc_paym_4\": 0,\n",
      "\"enc_paym_5\": 0,\n",
      "\"enc_paym_6\": 0,\n",
      "\"enc_paym_7\": 0,\n",
      "\"enc_paym_8\": 0,\n",
      "\"enc_paym_9\": 0,\n",
      "\"enc_paym_10\": 0,\n",
      "\"enc_paym_11\": 1,\n",
      "\"enc_paym_12\": 0,\n",
      "\"enc_paym_13\": 0,\n",
      "\"enc_paym_14\": 0,\n",
      "\"enc_paym_15\": 0,\n",
      "\"enc_paym_16\": 0,\n",
      "\"enc_paym_17\": 0,\n",
      "\"enc_paym_18\": 0,\n",
      "\"enc_paym_19\": 3,\n",
      "\"enc_paym_20\": 4,\n",
      "\"enc_paym_21\": 3,\n",
      "\"enc_paym_22\": 3,\n",
      "\"enc_paym_23\": 3,\n",
      "\"enc_paym_24\": 4,\n",
      "\"enc_loans_account_holder_type\": 1,\n",
      "\"enc_loans_credit_status\": 2,\n",
      "\"enc_loans_credit_type\": 3,\n",
      "\"enc_loans_account_cur\": 1,\n",
      "\"pclose_flag\": 0,\n",
      "\"fclose_flag\": 1,\n",
      "\"flag\": 0\n"
     ]
    }
   ],
   "execution_count": 26
  },
  {
   "metadata": {
    "ExecuteTime": {
     "end_time": "2024-06-10T15:44:44.986497Z",
     "start_time": "2024-06-10T15:44:44.982253Z"
    }
   },
   "cell_type": "code",
   "source": [
    "row_6 = df.iloc[6]\n",
    "columns_with_first_values = [f'\"{col}\": {val},' for col, val in row_6.items()]\n",
    "columns_with_first_values[-1] = columns_with_first_values[-1].rstrip(',')\n",
    "for item in columns_with_first_values:\n",
    "    print(item)"
   ],
   "id": "81af5d0a483c6439",
   "outputs": [
    {
     "name": "stdout",
     "output_type": "stream",
     "text": [
      "\"id\": 0,\n",
      "\"rn\": 7,\n",
      "\"pre_since_opened\": 3,\n",
      "\"pre_since_confirmed\": 9,\n",
      "\"pre_pterm\": 1,\n",
      "\"pre_fterm\": 2,\n",
      "\"pre_till_pclose\": 12,\n",
      "\"pre_till_fclose\": 14,\n",
      "\"pre_loans_credit_limit\": 15,\n",
      "\"pre_loans_next_pay_summ\": 5,\n",
      "\"pre_loans_outstanding\": 3,\n",
      "\"pre_loans_total_overdue\": 0,\n",
      "\"pre_loans_max_overdue_sum\": 2,\n",
      "\"pre_loans_credit_cost_rate\": 3,\n",
      "\"pre_loans5\": 6,\n",
      "\"pre_loans530\": 16,\n",
      "\"pre_loans3060\": 5,\n",
      "\"pre_loans6090\": 4,\n",
      "\"pre_loans90\": 8,\n",
      "\"is_zero_loans5\": 1,\n",
      "\"is_zero_loans530\": 1,\n",
      "\"is_zero_loans3060\": 1,\n",
      "\"is_zero_loans6090\": 1,\n",
      "\"is_zero_loans90\": 1,\n",
      "\"pre_util\": 16,\n",
      "\"pre_over2limit\": 2,\n",
      "\"pre_maxover2limit\": 17,\n",
      "\"is_zero_util\": 1,\n",
      "\"is_zero_over2limit\": 1,\n",
      "\"is_zero_maxover2limit\": 1,\n",
      "\"enc_paym_0\": 0,\n",
      "\"enc_paym_1\": 0,\n",
      "\"enc_paym_2\": 0,\n",
      "\"enc_paym_3\": 0,\n",
      "\"enc_paym_4\": 0,\n",
      "\"enc_paym_5\": 0,\n",
      "\"enc_paym_6\": 0,\n",
      "\"enc_paym_7\": 0,\n",
      "\"enc_paym_8\": 3,\n",
      "\"enc_paym_9\": 3,\n",
      "\"enc_paym_10\": 3,\n",
      "\"enc_paym_11\": 4,\n",
      "\"enc_paym_12\": 3,\n",
      "\"enc_paym_13\": 3,\n",
      "\"enc_paym_14\": 3,\n",
      "\"enc_paym_15\": 3,\n",
      "\"enc_paym_16\": 3,\n",
      "\"enc_paym_17\": 3,\n",
      "\"enc_paym_18\": 3,\n",
      "\"enc_paym_19\": 3,\n",
      "\"enc_paym_20\": 4,\n",
      "\"enc_paym_21\": 3,\n",
      "\"enc_paym_22\": 3,\n",
      "\"enc_paym_23\": 3,\n",
      "\"enc_paym_24\": 4,\n",
      "\"enc_loans_account_holder_type\": 1,\n",
      "\"enc_loans_credit_status\": 3,\n",
      "\"enc_loans_credit_type\": 4,\n",
      "\"enc_loans_account_cur\": 1,\n",
      "\"pclose_flag\": 0,\n",
      "\"fclose_flag\": 0,\n",
      "\"flag\": 0\n"
     ]
    }
   ],
   "execution_count": 27
  },
  {
   "metadata": {
    "ExecuteTime": {
     "end_time": "2024-06-10T15:44:45.566140Z",
     "start_time": "2024-06-10T15:44:45.562034Z"
    }
   },
   "cell_type": "code",
   "source": [
    "row_7 = df.iloc[7]\n",
    "columns_with_first_values = [f'\"{col}\": {val},' for col, val in row_7.items()]\n",
    "columns_with_first_values[-1] = columns_with_first_values[-1].rstrip(',')\n",
    "for item in columns_with_first_values:\n",
    "    print(item)"
   ],
   "id": "27a0381b27086795",
   "outputs": [
    {
     "name": "stdout",
     "output_type": "stream",
     "text": [
      "\"id\": 0,\n",
      "\"rn\": 8,\n",
      "\"pre_since_opened\": 2,\n",
      "\"pre_since_confirmed\": 9,\n",
      "\"pre_pterm\": 2,\n",
      "\"pre_fterm\": 3,\n",
      "\"pre_till_pclose\": 12,\n",
      "\"pre_till_fclose\": 14,\n",
      "\"pre_loans_credit_limit\": 15,\n",
      "\"pre_loans_next_pay_summ\": 5,\n",
      "\"pre_loans_outstanding\": 3,\n",
      "\"pre_loans_total_overdue\": 0,\n",
      "\"pre_loans_max_overdue_sum\": 2,\n",
      "\"pre_loans_credit_cost_rate\": 13,\n",
      "\"pre_loans5\": 6,\n",
      "\"pre_loans530\": 16,\n",
      "\"pre_loans3060\": 5,\n",
      "\"pre_loans6090\": 4,\n",
      "\"pre_loans90\": 8,\n",
      "\"is_zero_loans5\": 1,\n",
      "\"is_zero_loans530\": 1,\n",
      "\"is_zero_loans3060\": 1,\n",
      "\"is_zero_loans6090\": 1,\n",
      "\"is_zero_loans90\": 1,\n",
      "\"pre_util\": 16,\n",
      "\"pre_over2limit\": 2,\n",
      "\"pre_maxover2limit\": 17,\n",
      "\"is_zero_util\": 1,\n",
      "\"is_zero_over2limit\": 1,\n",
      "\"is_zero_maxover2limit\": 1,\n",
      "\"enc_paym_0\": 0,\n",
      "\"enc_paym_1\": 0,\n",
      "\"enc_paym_2\": 3,\n",
      "\"enc_paym_3\": 3,\n",
      "\"enc_paym_4\": 3,\n",
      "\"enc_paym_5\": 3,\n",
      "\"enc_paym_6\": 3,\n",
      "\"enc_paym_7\": 3,\n",
      "\"enc_paym_8\": 3,\n",
      "\"enc_paym_9\": 3,\n",
      "\"enc_paym_10\": 3,\n",
      "\"enc_paym_11\": 4,\n",
      "\"enc_paym_12\": 3,\n",
      "\"enc_paym_13\": 3,\n",
      "\"enc_paym_14\": 3,\n",
      "\"enc_paym_15\": 3,\n",
      "\"enc_paym_16\": 3,\n",
      "\"enc_paym_17\": 3,\n",
      "\"enc_paym_18\": 3,\n",
      "\"enc_paym_19\": 3,\n",
      "\"enc_paym_20\": 4,\n",
      "\"enc_paym_21\": 3,\n",
      "\"enc_paym_22\": 3,\n",
      "\"enc_paym_23\": 3,\n",
      "\"enc_paym_24\": 4,\n",
      "\"enc_loans_account_holder_type\": 1,\n",
      "\"enc_loans_credit_status\": 3,\n",
      "\"enc_loans_credit_type\": 4,\n",
      "\"enc_loans_account_cur\": 1,\n",
      "\"pclose_flag\": 0,\n",
      "\"fclose_flag\": 0,\n",
      "\"flag\": 0\n"
     ]
    }
   ],
   "execution_count": 28
  },
  {
   "metadata": {
    "ExecuteTime": {
     "end_time": "2024-06-10T15:44:46.094970Z",
     "start_time": "2024-06-10T15:44:46.091456Z"
    }
   },
   "cell_type": "code",
   "source": [
    "row_8 = df.iloc[8]\n",
    "columns_with_first_values = [f'\"{col}\": {val},' for col, val in row_8.items()]\n",
    "columns_with_first_values[-1] = columns_with_first_values[-1].rstrip(',')\n",
    "for item in columns_with_first_values:\n",
    "    print(item)"
   ],
   "id": "7233ce709c4627b6",
   "outputs": [
    {
     "name": "stdout",
     "output_type": "stream",
     "text": [
      "\"id\": 0,\n",
      "\"rn\": 9,\n",
      "\"pre_since_opened\": 1,\n",
      "\"pre_since_confirmed\": 9,\n",
      "\"pre_pterm\": 11,\n",
      "\"pre_fterm\": 13,\n",
      "\"pre_till_pclose\": 14,\n",
      "\"pre_till_fclose\": 8,\n",
      "\"pre_loans_credit_limit\": 2,\n",
      "\"pre_loans_next_pay_summ\": 5,\n",
      "\"pre_loans_outstanding\": 1,\n",
      "\"pre_loans_total_overdue\": 0,\n",
      "\"pre_loans_max_overdue_sum\": 2,\n",
      "\"pre_loans_credit_cost_rate\": 11,\n",
      "\"pre_loans5\": 6,\n",
      "\"pre_loans530\": 16,\n",
      "\"pre_loans3060\": 5,\n",
      "\"pre_loans6090\": 4,\n",
      "\"pre_loans90\": 8,\n",
      "\"is_zero_loans5\": 1,\n",
      "\"is_zero_loans530\": 1,\n",
      "\"is_zero_loans3060\": 1,\n",
      "\"is_zero_loans6090\": 1,\n",
      "\"is_zero_loans90\": 1,\n",
      "\"pre_util\": 1,\n",
      "\"pre_over2limit\": 2,\n",
      "\"pre_maxover2limit\": 17,\n",
      "\"is_zero_util\": 0,\n",
      "\"is_zero_over2limit\": 1,\n",
      "\"is_zero_maxover2limit\": 1,\n",
      "\"enc_paym_0\": 0,\n",
      "\"enc_paym_1\": 0,\n",
      "\"enc_paym_2\": 0,\n",
      "\"enc_paym_3\": 0,\n",
      "\"enc_paym_4\": 0,\n",
      "\"enc_paym_5\": 0,\n",
      "\"enc_paym_6\": 0,\n",
      "\"enc_paym_7\": 0,\n",
      "\"enc_paym_8\": 0,\n",
      "\"enc_paym_9\": 0,\n",
      "\"enc_paym_10\": 0,\n",
      "\"enc_paym_11\": 1,\n",
      "\"enc_paym_12\": 0,\n",
      "\"enc_paym_13\": 0,\n",
      "\"enc_paym_14\": 3,\n",
      "\"enc_paym_15\": 3,\n",
      "\"enc_paym_16\": 3,\n",
      "\"enc_paym_17\": 3,\n",
      "\"enc_paym_18\": 3,\n",
      "\"enc_paym_19\": 3,\n",
      "\"enc_paym_20\": 4,\n",
      "\"enc_paym_21\": 3,\n",
      "\"enc_paym_22\": 3,\n",
      "\"enc_paym_23\": 3,\n",
      "\"enc_paym_24\": 4,\n",
      "\"enc_loans_account_holder_type\": 1,\n",
      "\"enc_loans_credit_status\": 2,\n",
      "\"enc_loans_credit_type\": 4,\n",
      "\"enc_loans_account_cur\": 1,\n",
      "\"pclose_flag\": 0,\n",
      "\"fclose_flag\": 0,\n",
      "\"flag\": 0\n"
     ]
    }
   ],
   "execution_count": 29
  },
  {
   "metadata": {
    "ExecuteTime": {
     "end_time": "2024-06-10T15:44:50.995537Z",
     "start_time": "2024-06-10T15:44:50.991584Z"
    }
   },
   "cell_type": "code",
   "source": [
    "row_9 = df.iloc[9]\n",
    "columns_with_first_values = [f'\"{col}\": {val},' for col, val in row_9.items()]\n",
    "columns_with_first_values[-1] = columns_with_first_values[-1].rstrip(',')\n",
    "for item in columns_with_first_values:\n",
    "    print(item)"
   ],
   "id": "4f174deecc9afef6",
   "outputs": [
    {
     "name": "stdout",
     "output_type": "stream",
     "text": [
      "\"id\": 0,\n",
      "\"rn\": 10,\n",
      "\"pre_since_opened\": 7,\n",
      "\"pre_since_confirmed\": 9,\n",
      "\"pre_pterm\": 2,\n",
      "\"pre_fterm\": 10,\n",
      "\"pre_till_pclose\": 8,\n",
      "\"pre_till_fclose\": 8,\n",
      "\"pre_loans_credit_limit\": 16,\n",
      "\"pre_loans_next_pay_summ\": 4,\n",
      "\"pre_loans_outstanding\": 2,\n",
      "\"pre_loans_total_overdue\": 0,\n",
      "\"pre_loans_max_overdue_sum\": 2,\n",
      "\"pre_loans_credit_cost_rate\": 11,\n",
      "\"pre_loans5\": 6,\n",
      "\"pre_loans530\": 16,\n",
      "\"pre_loans3060\": 5,\n",
      "\"pre_loans6090\": 4,\n",
      "\"pre_loans90\": 8,\n",
      "\"is_zero_loans5\": 1,\n",
      "\"is_zero_loans530\": 1,\n",
      "\"is_zero_loans3060\": 1,\n",
      "\"is_zero_loans6090\": 1,\n",
      "\"is_zero_loans90\": 1,\n",
      "\"pre_util\": 15,\n",
      "\"pre_over2limit\": 2,\n",
      "\"pre_maxover2limit\": 17,\n",
      "\"is_zero_util\": 0,\n",
      "\"is_zero_over2limit\": 1,\n",
      "\"is_zero_maxover2limit\": 1,\n",
      "\"enc_paym_0\": 0,\n",
      "\"enc_paym_1\": 0,\n",
      "\"enc_paym_2\": 0,\n",
      "\"enc_paym_3\": 0,\n",
      "\"enc_paym_4\": 0,\n",
      "\"enc_paym_5\": 0,\n",
      "\"enc_paym_6\": 3,\n",
      "\"enc_paym_7\": 3,\n",
      "\"enc_paym_8\": 3,\n",
      "\"enc_paym_9\": 3,\n",
      "\"enc_paym_10\": 3,\n",
      "\"enc_paym_11\": 4,\n",
      "\"enc_paym_12\": 3,\n",
      "\"enc_paym_13\": 3,\n",
      "\"enc_paym_14\": 3,\n",
      "\"enc_paym_15\": 3,\n",
      "\"enc_paym_16\": 3,\n",
      "\"enc_paym_17\": 3,\n",
      "\"enc_paym_18\": 3,\n",
      "\"enc_paym_19\": 3,\n",
      "\"enc_paym_20\": 4,\n",
      "\"enc_paym_21\": 3,\n",
      "\"enc_paym_22\": 3,\n",
      "\"enc_paym_23\": 3,\n",
      "\"enc_paym_24\": 4,\n",
      "\"enc_loans_account_holder_type\": 1,\n",
      "\"enc_loans_credit_status\": 2,\n",
      "\"enc_loans_credit_type\": 4,\n",
      "\"enc_loans_account_cur\": 1,\n",
      "\"pclose_flag\": 0,\n",
      "\"fclose_flag\": 0,\n",
      "\"flag\": 0\n"
     ]
    }
   ],
   "execution_count": 30
  },
  {
   "metadata": {
    "ExecuteTime": {
     "end_time": "2024-06-10T15:44:51.941865Z",
     "start_time": "2024-06-10T15:44:51.937723Z"
    }
   },
   "cell_type": "code",
   "source": [
    "row_10 = df.iloc[10]\n",
    "columns_with_first_values = [f'\"{col}\": {val},' for col, val in row_10.items()]\n",
    "columns_with_first_values[-1] = columns_with_first_values[-1].rstrip(',')\n",
    "for item in columns_with_first_values:\n",
    "    print(item)"
   ],
   "id": "189eb4b42f98acfb",
   "outputs": [
    {
     "name": "stdout",
     "output_type": "stream",
     "text": [
      "\"id\": 1,\n",
      "\"rn\": 1,\n",
      "\"pre_since_opened\": 8,\n",
      "\"pre_since_confirmed\": 7,\n",
      "\"pre_pterm\": 12,\n",
      "\"pre_fterm\": 15,\n",
      "\"pre_till_pclose\": 9,\n",
      "\"pre_till_fclose\": 1,\n",
      "\"pre_loans_credit_limit\": 1,\n",
      "\"pre_loans_next_pay_summ\": 2,\n",
      "\"pre_loans_outstanding\": 4,\n",
      "\"pre_loans_total_overdue\": 0,\n",
      "\"pre_loans_max_overdue_sum\": 1,\n",
      "\"pre_loans_credit_cost_rate\": 4,\n",
      "\"pre_loans5\": 6,\n",
      "\"pre_loans530\": 16,\n",
      "\"pre_loans3060\": 5,\n",
      "\"pre_loans6090\": 4,\n",
      "\"pre_loans90\": 8,\n",
      "\"is_zero_loans5\": 1,\n",
      "\"is_zero_loans530\": 1,\n",
      "\"is_zero_loans3060\": 0,\n",
      "\"is_zero_loans6090\": 0,\n",
      "\"is_zero_loans90\": 0,\n",
      "\"pre_util\": 2,\n",
      "\"pre_over2limit\": 10,\n",
      "\"pre_maxover2limit\": 8,\n",
      "\"is_zero_util\": 0,\n",
      "\"is_zero_over2limit\": 0,\n",
      "\"is_zero_maxover2limit\": 0,\n",
      "\"enc_paym_0\": 0,\n",
      "\"enc_paym_1\": 3,\n",
      "\"enc_paym_2\": 3,\n",
      "\"enc_paym_3\": 3,\n",
      "\"enc_paym_4\": 3,\n",
      "\"enc_paym_5\": 3,\n",
      "\"enc_paym_6\": 3,\n",
      "\"enc_paym_7\": 3,\n",
      "\"enc_paym_8\": 3,\n",
      "\"enc_paym_9\": 2,\n",
      "\"enc_paym_10\": 0,\n",
      "\"enc_paym_11\": 1,\n",
      "\"enc_paym_12\": 0,\n",
      "\"enc_paym_13\": 0,\n",
      "\"enc_paym_14\": 0,\n",
      "\"enc_paym_15\": 0,\n",
      "\"enc_paym_16\": 0,\n",
      "\"enc_paym_17\": 0,\n",
      "\"enc_paym_18\": 0,\n",
      "\"enc_paym_19\": 0,\n",
      "\"enc_paym_20\": 1,\n",
      "\"enc_paym_21\": 0,\n",
      "\"enc_paym_22\": 3,\n",
      "\"enc_paym_23\": 3,\n",
      "\"enc_paym_24\": 4,\n",
      "\"enc_loans_account_holder_type\": 1,\n",
      "\"enc_loans_credit_status\": 3,\n",
      "\"enc_loans_credit_type\": 4,\n",
      "\"enc_loans_account_cur\": 1,\n",
      "\"pclose_flag\": 0,\n",
      "\"fclose_flag\": 0,\n",
      "\"flag\": 0\n"
     ]
    }
   ],
   "execution_count": 31
  },
  {
   "metadata": {
    "ExecuteTime": {
     "end_time": "2024-06-10T15:44:58.397813Z",
     "start_time": "2024-06-10T15:44:58.394441Z"
    }
   },
   "cell_type": "code",
   "source": [
    "row_11 = df.iloc[11]\n",
    "columns_with_first_values = [f'\"{col}\": {val},' for col, val in row_11.items()]\n",
    "columns_with_first_values[-1] = columns_with_first_values[-1].rstrip(',')\n",
    "for item in columns_with_first_values:\n",
    "    print(item)"
   ],
   "id": "246491f1f249023a",
   "outputs": [
    {
     "name": "stdout",
     "output_type": "stream",
     "text": [
      "\"id\": 1,\n",
      "\"rn\": 2,\n",
      "\"pre_since_opened\": 8,\n",
      "\"pre_since_confirmed\": 7,\n",
      "\"pre_pterm\": 13,\n",
      "\"pre_fterm\": 2,\n",
      "\"pre_till_pclose\": 9,\n",
      "\"pre_till_fclose\": 1,\n",
      "\"pre_loans_credit_limit\": 6,\n",
      "\"pre_loans_next_pay_summ\": 2,\n",
      "\"pre_loans_outstanding\": 3,\n",
      "\"pre_loans_total_overdue\": 0,\n",
      "\"pre_loans_max_overdue_sum\": 1,\n",
      "\"pre_loans_credit_cost_rate\": 4,\n",
      "\"pre_loans5\": 6,\n",
      "\"pre_loans530\": 16,\n",
      "\"pre_loans3060\": 5,\n",
      "\"pre_loans6090\": 4,\n",
      "\"pre_loans90\": 8,\n",
      "\"is_zero_loans5\": 1,\n",
      "\"is_zero_loans530\": 1,\n",
      "\"is_zero_loans3060\": 0,\n",
      "\"is_zero_loans6090\": 0,\n",
      "\"is_zero_loans90\": 0,\n",
      "\"pre_util\": 0,\n",
      "\"pre_over2limit\": 0,\n",
      "\"pre_maxover2limit\": 10,\n",
      "\"is_zero_util\": 0,\n",
      "\"is_zero_over2limit\": 0,\n",
      "\"is_zero_maxover2limit\": 0,\n",
      "\"enc_paym_0\": 0,\n",
      "\"enc_paym_1\": 3,\n",
      "\"enc_paym_2\": 3,\n",
      "\"enc_paym_3\": 3,\n",
      "\"enc_paym_4\": 3,\n",
      "\"enc_paym_5\": 3,\n",
      "\"enc_paym_6\": 3,\n",
      "\"enc_paym_7\": 2,\n",
      "\"enc_paym_8\": 0,\n",
      "\"enc_paym_9\": 0,\n",
      "\"enc_paym_10\": 0,\n",
      "\"enc_paym_11\": 1,\n",
      "\"enc_paym_12\": 0,\n",
      "\"enc_paym_13\": 3,\n",
      "\"enc_paym_14\": 3,\n",
      "\"enc_paym_15\": 3,\n",
      "\"enc_paym_16\": 3,\n",
      "\"enc_paym_17\": 3,\n",
      "\"enc_paym_18\": 3,\n",
      "\"enc_paym_19\": 3,\n",
      "\"enc_paym_20\": 4,\n",
      "\"enc_paym_21\": 3,\n",
      "\"enc_paym_22\": 3,\n",
      "\"enc_paym_23\": 3,\n",
      "\"enc_paym_24\": 4,\n",
      "\"enc_loans_account_holder_type\": 1,\n",
      "\"enc_loans_credit_status\": 3,\n",
      "\"enc_loans_credit_type\": 4,\n",
      "\"enc_loans_account_cur\": 1,\n",
      "\"pclose_flag\": 0,\n",
      "\"fclose_flag\": 0,\n",
      "\"flag\": 0\n"
     ]
    }
   ],
   "execution_count": 32
  },
  {
   "metadata": {
    "ExecuteTime": {
     "end_time": "2024-06-10T15:45:02.587330Z",
     "start_time": "2024-06-10T15:45:02.582948Z"
    }
   },
   "cell_type": "code",
   "source": [
    "row_12 = df.iloc[12]\n",
    "columns_with_first_values = [f'\"{col}\": {val},' for col, val in row_12.items()]\n",
    "columns_with_first_values[-1] = columns_with_first_values[-1].rstrip(',')\n",
    "for item in columns_with_first_values:\n",
    "    print(item)"
   ],
   "id": "f81f8bc5ac6da9f6",
   "outputs": [
    {
     "name": "stdout",
     "output_type": "stream",
     "text": [
      "\"id\": 1,\n",
      "\"rn\": 3,\n",
      "\"pre_since_opened\": 15,\n",
      "\"pre_since_confirmed\": 7,\n",
      "\"pre_pterm\": 7,\n",
      "\"pre_fterm\": 6,\n",
      "\"pre_till_pclose\": 9,\n",
      "\"pre_till_fclose\": 1,\n",
      "\"pre_loans_credit_limit\": 6,\n",
      "\"pre_loans_next_pay_summ\": 2,\n",
      "\"pre_loans_outstanding\": 3,\n",
      "\"pre_loans_total_overdue\": 0,\n",
      "\"pre_loans_max_overdue_sum\": 2,\n",
      "\"pre_loans_credit_cost_rate\": 4,\n",
      "\"pre_loans5\": 6,\n",
      "\"pre_loans530\": 16,\n",
      "\"pre_loans3060\": 5,\n",
      "\"pre_loans6090\": 4,\n",
      "\"pre_loans90\": 8,\n",
      "\"is_zero_loans5\": 1,\n",
      "\"is_zero_loans530\": 1,\n",
      "\"is_zero_loans3060\": 1,\n",
      "\"is_zero_loans6090\": 1,\n",
      "\"is_zero_loans90\": 1,\n",
      "\"pre_util\": 16,\n",
      "\"pre_over2limit\": 2,\n",
      "\"pre_maxover2limit\": 17,\n",
      "\"is_zero_util\": 1,\n",
      "\"is_zero_over2limit\": 1,\n",
      "\"is_zero_maxover2limit\": 1,\n",
      "\"enc_paym_0\": 0,\n",
      "\"enc_paym_1\": 0,\n",
      "\"enc_paym_2\": 0,\n",
      "\"enc_paym_3\": 0,\n",
      "\"enc_paym_4\": 0,\n",
      "\"enc_paym_5\": 3,\n",
      "\"enc_paym_6\": 3,\n",
      "\"enc_paym_7\": 3,\n",
      "\"enc_paym_8\": 3,\n",
      "\"enc_paym_9\": 3,\n",
      "\"enc_paym_10\": 3,\n",
      "\"enc_paym_11\": 4,\n",
      "\"enc_paym_12\": 3,\n",
      "\"enc_paym_13\": 3,\n",
      "\"enc_paym_14\": 3,\n",
      "\"enc_paym_15\": 3,\n",
      "\"enc_paym_16\": 3,\n",
      "\"enc_paym_17\": 3,\n",
      "\"enc_paym_18\": 3,\n",
      "\"enc_paym_19\": 3,\n",
      "\"enc_paym_20\": 4,\n",
      "\"enc_paym_21\": 3,\n",
      "\"enc_paym_22\": 3,\n",
      "\"enc_paym_23\": 3,\n",
      "\"enc_paym_24\": 4,\n",
      "\"enc_loans_account_holder_type\": 1,\n",
      "\"enc_loans_credit_status\": 3,\n",
      "\"enc_loans_credit_type\": 4,\n",
      "\"enc_loans_account_cur\": 1,\n",
      "\"pclose_flag\": 0,\n",
      "\"fclose_flag\": 0,\n",
      "\"flag\": 0\n"
     ]
    }
   ],
   "execution_count": 33
  },
  {
   "metadata": {},
   "cell_type": "code",
   "outputs": [],
   "execution_count": null,
   "source": "",
   "id": "b55a7f1b336bc845"
  },
  {
   "metadata": {},
   "cell_type": "code",
   "outputs": [],
   "execution_count": null,
   "source": "",
   "id": "dbc0f662a3331efb"
  },
  {
   "metadata": {},
   "cell_type": "code",
   "outputs": [],
   "execution_count": null,
   "source": "",
   "id": "791c3f830e0ebcb0"
  },
  {
   "metadata": {},
   "cell_type": "code",
   "outputs": [],
   "execution_count": null,
   "source": "",
   "id": "cbcee615f840ed7c"
  },
  {
   "metadata": {},
   "cell_type": "code",
   "outputs": [],
   "execution_count": null,
   "source": "",
   "id": "ad44a69d1d5cd627"
  },
  {
   "metadata": {},
   "cell_type": "code",
   "outputs": [],
   "execution_count": null,
   "source": "",
   "id": "1362a30f1fc841b0"
  },
  {
   "metadata": {
    "ExecuteTime": {
     "end_time": "2024-06-10T15:32:13.734877Z",
     "start_time": "2024-06-10T15:32:13.731093Z"
    }
   },
   "cell_type": "code",
   "source": [
    "def convert_dtype(dtype):\n",
    "    if dtype in ['int32', 'int64', 'int16', 'int8']:\n",
    "        return 'int'\n",
    "    elif dtype in ['float32', 'float64']:\n",
    "        return 'float'\n",
    "    return dtype\n",
    "\n",
    "# Создаем список столбцов с типами данных\n",
    "columns_with_types = [f\"{col}: {convert_dtype(dtype.name)}\" for col, dtype in df.dtypes.items()]\n",
    "\n",
    "# Выводим список без кавычек\n",
    "for item in columns_with_types:\n",
    "    print(item)"
   ],
   "id": "168135911c936282",
   "outputs": [
    {
     "name": "stdout",
     "output_type": "stream",
     "text": [
      "id: int\n",
      "rn: int\n",
      "pre_since_opened: int\n",
      "pre_since_confirmed: int\n",
      "pre_pterm: int\n",
      "pre_fterm: int\n",
      "pre_till_pclose: int\n",
      "pre_till_fclose: int\n",
      "pre_loans_credit_limit: int\n",
      "pre_loans_next_pay_summ: int\n",
      "pre_loans_outstanding: int\n",
      "pre_loans_total_overdue: int\n",
      "pre_loans_max_overdue_sum: int\n",
      "pre_loans_credit_cost_rate: int\n",
      "pre_loans5: int\n",
      "pre_loans530: int\n",
      "pre_loans3060: int\n",
      "pre_loans6090: int\n",
      "pre_loans90: int\n",
      "is_zero_loans5: int\n",
      "is_zero_loans530: int\n",
      "is_zero_loans3060: int\n",
      "is_zero_loans6090: int\n",
      "is_zero_loans90: int\n",
      "pre_util: int\n",
      "pre_over2limit: int\n",
      "pre_maxover2limit: int\n",
      "is_zero_util: int\n",
      "is_zero_over2limit: int\n",
      "is_zero_maxover2limit: int\n",
      "enc_paym_0: int\n",
      "enc_paym_1: int\n",
      "enc_paym_2: int\n",
      "enc_paym_3: int\n",
      "enc_paym_4: int\n",
      "enc_paym_5: int\n",
      "enc_paym_6: int\n",
      "enc_paym_7: int\n",
      "enc_paym_8: int\n",
      "enc_paym_9: int\n",
      "enc_paym_10: int\n",
      "enc_paym_11: int\n",
      "enc_paym_12: int\n",
      "enc_paym_13: int\n",
      "enc_paym_14: int\n",
      "enc_paym_15: int\n",
      "enc_paym_16: int\n",
      "enc_paym_17: int\n",
      "enc_paym_18: int\n",
      "enc_paym_19: int\n",
      "enc_paym_20: int\n",
      "enc_paym_21: int\n",
      "enc_paym_22: int\n",
      "enc_paym_23: int\n",
      "enc_paym_24: int\n",
      "enc_loans_account_holder_type: int\n",
      "enc_loans_credit_status: int\n",
      "enc_loans_credit_type: int\n",
      "enc_loans_account_cur: int\n",
      "pclose_flag: int\n",
      "fclose_flag: int\n",
      "flag: int\n"
     ]
    }
   ],
   "execution_count": 19
  },
  {
   "metadata": {
    "ExecuteTime": {
     "end_time": "2024-06-10T14:51:55.423229Z",
     "start_time": "2024-06-10T14:51:55.416163Z"
    }
   },
   "cell_type": "code",
   "source": [
    "# Посмотрим какая информация содержится в датасете\n",
    "df.info()"
   ],
   "id": "caff8d41c61cb739",
   "execution_count": 131,
   "outputs": []
  },
  {
   "metadata": {
    "ExecuteTime": {
     "end_time": "2024-06-10T14:51:56.667647Z",
     "start_time": "2024-06-10T14:51:55.424236Z"
    }
   },
   "cell_type": "code",
   "source": [
    "# Проверим данные на пропуски\n",
    "df.isna().sum()"
   ],
   "id": "1b9584791a37d80f",
   "execution_count": 132,
   "outputs": []
  },
  {
   "metadata": {
    "ExecuteTime": {
     "end_time": "2024-06-10T14:51:56.671278Z",
     "start_time": "2024-06-10T14:51:56.668654Z"
    }
   },
   "cell_type": "code",
   "source": [
    "# Пропусков нет"
   ],
   "id": "86bebdafeecbdbb3",
   "execution_count": 133,
   "outputs": []
  },
  {
   "metadata": {
    "ExecuteTime": {
     "end_time": "2024-06-10T14:51:56.674697Z",
     "start_time": "2024-06-10T14:51:56.672284Z"
    }
   },
   "cell_type": "code",
   "source": [
    "# Посмотрим описание датасета\n",
    "# df.describe().round(2)"
   ],
   "id": "43b34bcab7fa96fa",
   "execution_count": 134,
   "outputs": []
  },
  {
   "metadata": {
    "ExecuteTime": {
     "end_time": "2024-06-10T14:51:56.678732Z",
     "start_time": "2024-06-10T14:51:56.675704Z"
    }
   },
   "cell_type": "code",
   "source": [
    "# Создаем функцию для подсчета уникальных значений в каждом признаке\n",
    "def print_unique_count(df):\n",
    "    for column in df.columns:\n",
    "        unique_count = df[column].nunique()\n",
    "        print(f\"Признак: {column}\")\n",
    "        print(f\"Количество уникальных значений: {unique_count}\\n\")"
   ],
   "id": "5726182b25a20eb0",
   "execution_count": 135,
   "outputs": []
  },
  {
   "metadata": {
    "ExecuteTime": {
     "end_time": "2024-06-10T14:52:03.281419Z",
     "start_time": "2024-06-10T14:51:56.679738Z"
    }
   },
   "cell_type": "code",
   "source": [
    "# Посмотрим количество уникальных значений в каждом признаке датасета\n",
    "print_unique_count(df)"
   ],
   "id": "dae68e968cd8e93a",
   "execution_count": 136,
   "outputs": []
  },
  {
   "metadata": {},
   "cell_type": "markdown",
   "source": "# Визуализация значений признаков",
   "id": "38e6ee16a6bf1820"
  },
  {
   "metadata": {
    "ExecuteTime": {
     "end_time": "2024-06-10T14:52:04.987171Z",
     "start_time": "2024-06-10T14:52:03.282425Z"
    }
   },
   "cell_type": "code",
   "source": [
    "# pre_since_opened - Дней с даты открытия кредита до даты сбора данных (бинаризовано*)\n",
    "sns.countplot(x='pre_since_opened', data=df);"
   ],
   "id": "a344edb6d7543ee7",
   "execution_count": 137,
   "outputs": []
  },
  {
   "metadata": {
    "ExecuteTime": {
     "end_time": "2024-06-10T14:52:06.587414Z",
     "start_time": "2024-06-10T14:52:04.988178Z"
    }
   },
   "cell_type": "code",
   "source": [
    "# pre_since_confirmed\t- Дней с даты подтверждения информации по кредиту до даты сбора данных (бинаризовано*)\n",
    "sns.countplot(x='pre_since_confirmed', data=df);"
   ],
   "id": "988136d390876500",
   "execution_count": 138,
   "outputs": []
  },
  {
   "metadata": {
    "ExecuteTime": {
     "end_time": "2024-06-10T14:52:08.191662Z",
     "start_time": "2024-06-10T14:52:06.588419Z"
    }
   },
   "cell_type": "code",
   "source": [
    "# pre_pterm - Плановое количество дней с даты открытия кредита до даты закрытия (бинаризовано*)\n",
    "sns.countplot(x='pre_pterm', data=df);"
   ],
   "id": "1ca8b91d683b5f97",
   "execution_count": 139,
   "outputs": []
  },
  {
   "metadata": {
    "ExecuteTime": {
     "end_time": "2024-06-10T14:52:09.762083Z",
     "start_time": "2024-06-10T14:52:08.192667Z"
    }
   },
   "cell_type": "code",
   "source": [
    "# pre_fterm - Фактическое количество дней с даты открытия кредита до даты закрытия (бинаризовано*) \\\n",
    "sns.countplot(x='pre_fterm', data=df);"
   ],
   "id": "4ac82d1ceb334902",
   "execution_count": 140,
   "outputs": []
  },
  {
   "metadata": {
    "ExecuteTime": {
     "end_time": "2024-06-10T14:52:11.334801Z",
     "start_time": "2024-06-10T14:52:09.763090Z"
    }
   },
   "cell_type": "code",
   "source": [
    "# pre_till_pclose - Плановое количество дней с даты сбора данных до даты закрытия кредита (бинаризовано*)\n",
    "sns.countplot(x='pre_till_pclose', data=df);"
   ],
   "id": "3a7eb4865e413e55",
   "execution_count": 141,
   "outputs": []
  },
  {
   "metadata": {
    "ExecuteTime": {
     "end_time": "2024-06-10T14:52:12.942501Z",
     "start_time": "2024-06-10T14:52:11.335807Z"
    }
   },
   "cell_type": "code",
   "source": [
    "# pre_till_fclose - Фактическое количество дней с даты сбора данных до даты закрытия кредита (бинаризовано*)\n",
    "sns.countplot(x='pre_till_fclose', data=df);"
   ],
   "id": "8292199c23fe9c3d",
   "execution_count": 142,
   "outputs": []
  },
  {
   "metadata": {
    "ExecuteTime": {
     "end_time": "2024-06-10T14:52:14.569963Z",
     "start_time": "2024-06-10T14:52:12.942501Z"
    }
   },
   "cell_type": "code",
   "source": [
    "# pre_loans_credit_limit - Кредитный лимит (бинаризовано*)\n",
    "sns.countplot(x='pre_loans_credit_limit', data=df);"
   ],
   "id": "74a23753215d40d3",
   "execution_count": 143,
   "outputs": []
  },
  {
   "metadata": {
    "ExecuteTime": {
     "end_time": "2024-06-10T14:52:15.896318Z",
     "start_time": "2024-06-10T14:52:14.570971Z"
    }
   },
   "cell_type": "code",
   "source": [
    "# pre_loans_next_pay_summ - Сумма следующего платежа по кредиту (бинаризовано*)\n",
    "sns.countplot(x='pre_loans_next_pay_summ', data=df);"
   ],
   "id": "864cc6121a0bb03a",
   "execution_count": 144,
   "outputs": []
  },
  {
   "metadata": {
    "ExecuteTime": {
     "end_time": "2024-06-10T14:52:17.137513Z",
     "start_time": "2024-06-10T14:52:15.897323Z"
    }
   },
   "cell_type": "code",
   "source": [
    "# pre_loans_outstanding - Оставшаяся невыплаченная сумма кредита (бинаризовано*)\n",
    "sns.countplot(x='pre_loans_outstanding', data=df);"
   ],
   "id": "8cb26860a55b18bb",
   "execution_count": 145,
   "outputs": []
  },
  {
   "metadata": {
    "ExecuteTime": {
     "end_time": "2024-06-10T14:52:18.218874Z",
     "start_time": "2024-06-10T14:52:17.138518Z"
    }
   },
   "cell_type": "code",
   "source": [
    "# pre_loans_total_overdue - Текущая просроченная задолженность (бинаризовано*)\n",
    "sns.countplot(x='pre_loans_total_overdue', data=df);"
   ],
   "id": "818c186d9e38fdb6",
   "execution_count": 146,
   "outputs": []
  },
  {
   "metadata": {
    "ExecuteTime": {
     "end_time": "2024-06-10T14:52:19.409755Z",
     "start_time": "2024-06-10T14:52:18.218874Z"
    }
   },
   "cell_type": "code",
   "source": [
    "# pre_loans_max_overdue_sum - Максимальная просроченная задолженность (бинаризовано*)\n",
    "sns.countplot(x='pre_loans_max_overdue_sum', data=df);"
   ],
   "id": "6764f96f9c89d374",
   "execution_count": 147,
   "outputs": []
  },
  {
   "metadata": {
    "ExecuteTime": {
     "end_time": "2024-06-10T14:52:20.862268Z",
     "start_time": "2024-06-10T14:52:19.409755Z"
    }
   },
   "cell_type": "code",
   "source": [
    "# pre_loans_credit_cost_rate - Полная стоимость кредита (бинаризовано*)\n",
    "sns.countplot(x='pre_loans_credit_cost_rate', data=df);"
   ],
   "id": "6ceb5c41ccaf980e",
   "execution_count": 148,
   "outputs": []
  },
  {
   "metadata": {
    "ExecuteTime": {
     "end_time": "2024-06-10T14:52:22.031930Z",
     "start_time": "2024-06-10T14:52:20.865274Z"
    }
   },
   "cell_type": "code",
   "source": [
    "# pre_loans5 - Число просрочек до 5 дней (бинаризовано*)\n",
    "sns.countplot(x='pre_loans5', data=df);"
   ],
   "id": "9c82870662c480dc",
   "execution_count": 149,
   "outputs": []
  },
  {
   "metadata": {
    "ExecuteTime": {
     "end_time": "2024-06-10T14:52:23.268529Z",
     "start_time": "2024-06-10T14:52:22.032937Z"
    }
   },
   "cell_type": "code",
   "source": [
    "# pre_loans530 - Число просрочек от 5 до 30 дней (бинаризовано*)\n",
    "sns.countplot(x='pre_loans530', data=df);"
   ],
   "id": "721cced11743eaee",
   "execution_count": 150,
   "outputs": []
  },
  {
   "metadata": {
    "ExecuteTime": {
     "end_time": "2024-06-10T14:52:24.336200Z",
     "start_time": "2024-06-10T14:52:23.268529Z"
    }
   },
   "cell_type": "code",
   "source": [
    "# pre_loans6090 - Число просрочек от 60 до 90 дней (бинаризовано*)\n",
    "sns.countplot(x='pre_loans6090', data=df);"
   ],
   "id": "393d4fdbf9adcac1",
   "execution_count": 151,
   "outputs": []
  },
  {
   "metadata": {
    "ExecuteTime": {
     "end_time": "2024-06-10T14:52:25.402269Z",
     "start_time": "2024-06-10T14:52:24.337206Z"
    }
   },
   "cell_type": "code",
   "source": [
    "# pre_loans90\t- Число просрочек более, чем на 90 дней (бинаризовано*)\n",
    "sns.countplot(x='pre_loans90', data=df);"
   ],
   "id": "fb7d21b6faecf064",
   "execution_count": 152,
   "outputs": []
  },
  {
   "metadata": {
    "ExecuteTime": {
     "end_time": "2024-06-10T14:52:26.888128Z",
     "start_time": "2024-06-10T14:52:25.403275Z"
    }
   },
   "cell_type": "code",
   "source": [
    "# pre_util - Отношение оставшейся невыплаченной суммы кредита к кредитному лимиту (бинаризовано*)\n",
    "sns.countplot(x='pre_util', data=df);"
   ],
   "id": "84b15638f719809",
   "execution_count": 153,
   "outputs": []
  },
  {
   "metadata": {
    "ExecuteTime": {
     "end_time": "2024-06-10T14:52:28.160837Z",
     "start_time": "2024-06-10T14:52:26.888128Z"
    }
   },
   "cell_type": "code",
   "source": [
    "# pre_over2limit - Отношение текущей просроченной задолженности к кредитному лимиту (бинаризовано*)\n",
    "sns.countplot(x='pre_over2limit', data=df);"
   ],
   "id": "74ee9ba7dc2575c6",
   "execution_count": 154,
   "outputs": []
  },
  {
   "metadata": {
    "ExecuteTime": {
     "end_time": "2024-06-10T14:52:29.342131Z",
     "start_time": "2024-06-10T14:52:28.160837Z"
    }
   },
   "cell_type": "code",
   "source": [
    "# is_zero_util - Флаг: отношение оставшейся невыплаченной суммы кредита к кредитному лимиту равняется 0\n",
    "sns.countplot(x='is_zero_util', data=df);"
   ],
   "id": "f00afa8c3f4a6fb1",
   "execution_count": 155,
   "outputs": []
  },
  {
   "metadata": {
    "ExecuteTime": {
     "end_time": "2024-06-10T14:52:30.486033Z",
     "start_time": "2024-06-10T14:52:29.343138Z"
    }
   },
   "cell_type": "code",
   "source": [
    "# is_zero_over2limit - Флаг: отношение текущей просроченной задолженности к кредитному лимиту равняется 0\n",
    "sns.countplot(x='is_zero_over2limit', data=df);"
   ],
   "id": "5ca01add859d4258",
   "execution_count": 156,
   "outputs": []
  },
  {
   "metadata": {
    "ExecuteTime": {
     "end_time": "2024-06-10T14:52:31.661752Z",
     "start_time": "2024-06-10T14:52:30.487039Z"
    }
   },
   "cell_type": "code",
   "source": [
    "# is_zero_maxover2limit - Флаг: отношение максимальной просроченной задолженности к кредитному лимиту равняется 0\n",
    "sns.countplot(x='is_zero_maxover2limit', data=df);"
   ],
   "id": "3430f4c921eaa604",
   "execution_count": 157,
   "outputs": []
  },
  {
   "metadata": {
    "ExecuteTime": {
     "end_time": "2024-06-10T14:52:32.843059Z",
     "start_time": "2024-06-10T14:52:31.662758Z"
    }
   },
   "cell_type": "code",
   "source": [
    "# enc_paym_{0..N} - Статусы ежемесячных платежей за последние N месяцев (закодировано**)\n",
    "sns.countplot(x='enc_paym_1', data=df);"
   ],
   "id": "7d9bfb8e97b6b534",
   "execution_count": 158,
   "outputs": []
  },
  {
   "metadata": {
    "ExecuteTime": {
     "end_time": "2024-06-10T14:52:33.955978Z",
     "start_time": "2024-06-10T14:52:32.843059Z"
    }
   },
   "cell_type": "code",
   "source": [
    "# enc_loans_account_holder_type - Тип отношения к кредиту (закодировано**)\n",
    "sns.countplot(x='enc_loans_account_holder_type', data=df);"
   ],
   "id": "ee93b9c06a1eed0",
   "execution_count": 159,
   "outputs": []
  },
  {
   "metadata": {
    "ExecuteTime": {
     "end_time": "2024-06-10T14:52:35.142408Z",
     "start_time": "2024-06-10T14:52:33.956982Z"
    }
   },
   "cell_type": "code",
   "source": [
    "# enc_loans_credit_status\t- Статус кредита (закодировано**)\n",
    "sns.countplot(x='enc_loans_credit_status', data=df);"
   ],
   "id": "8accf11ba4537afb",
   "execution_count": 160,
   "outputs": []
  },
  {
   "metadata": {
    "ExecuteTime": {
     "end_time": "2024-06-10T14:52:36.211669Z",
     "start_time": "2024-06-10T14:52:35.143414Z"
    }
   },
   "cell_type": "code",
   "source": [
    "# enc_loans_account_cur - Валюта кредита (закодировано**)\n",
    "sns.countplot(x='enc_loans_account_cur', data=df);"
   ],
   "id": "a816e7add2b35358",
   "execution_count": 161,
   "outputs": []
  },
  {
   "metadata": {
    "ExecuteTime": {
     "end_time": "2024-06-10T14:52:37.459805Z",
     "start_time": "2024-06-10T14:52:36.212676Z"
    }
   },
   "cell_type": "code",
   "source": [
    "# enc_loans_credit_type - Тип кредита (закодировано**)\n",
    "sns.countplot(x='enc_loans_credit_type', data=df);"
   ],
   "id": "8a1cd4c2cc590c32",
   "execution_count": 162,
   "outputs": []
  },
  {
   "metadata": {
    "ExecuteTime": {
     "end_time": "2024-06-10T14:52:38.607456Z",
     "start_time": "2024-06-10T14:52:37.459805Z"
    }
   },
   "cell_type": "code",
   "source": [
    "# pclose_flag - Флаг: плановое количество дней с даты открытия кредита до даты закрытия не определено\n",
    "sns.countplot(x='pclose_flag', data=df);"
   ],
   "id": "32818a3bd9010f99",
   "execution_count": 163,
   "outputs": []
  },
  {
   "metadata": {
    "ExecuteTime": {
     "end_time": "2024-06-10T14:52:39.739943Z",
     "start_time": "2024-06-10T14:52:38.608462Z"
    }
   },
   "cell_type": "code",
   "source": [
    "# fclose_flag - Флаг: фактическое количество дней с даты открытия кредита до даты закрытия не определено\n",
    "sns.countplot(x='fclose_flag', data=df);"
   ],
   "id": "7b1498db647190ce",
   "execution_count": 164,
   "outputs": []
  },
  {
   "metadata": {},
   "cell_type": "markdown",
   "source": "# Создание новых признаков",
   "id": "5d3ab6320e4b8530"
  },
  {
   "metadata": {
    "ExecuteTime": {
     "end_time": "2024-06-10T14:52:39.906074Z",
     "start_time": "2024-06-10T14:52:39.740949Z"
    }
   },
   "cell_type": "code",
   "source": [
    "# Cумма флагов, указывающих на отсутствие просрочек\n",
    "df['total_overdue_flags'] = (\n",
    "        df['is_zero_loans5'] +\n",
    "        df['is_zero_loans530'] +\n",
    "        df['is_zero_loans3060'] +\n",
    "        df['is_zero_loans6090'] +\n",
    "        df['is_zero_loans90']\n",
    ")"
   ],
   "id": "9fb0e7b49dcb859d",
   "execution_count": 165,
   "outputs": []
  },
  {
   "metadata": {
    "ExecuteTime": {
     "end_time": "2024-06-10T14:52:40.076487Z",
     "start_time": "2024-06-10T14:52:39.907080Z"
    }
   },
   "cell_type": "code",
   "source": [
    "# Общее количество просрочек\n",
    "df['total_overdue_counts'] = (\n",
    "        df['pre_loans5'] +\n",
    "        df['pre_loans530'] +\n",
    "        df['pre_loans3060'] +\n",
    "        df['pre_loans6090'] +\n",
    "        df['pre_loans90']\n",
    ")"
   ],
   "id": "5d90c40a4601afd8",
   "execution_count": 166,
   "outputs": []
  },
  {
   "metadata": {
    "ExecuteTime": {
     "end_time": "2024-06-10T14:52:40.137396Z",
     "start_time": "2024-06-10T14:52:40.077491Z"
    }
   },
   "cell_type": "code",
   "source": [
    "# Длинна кредитной истории\n",
    "df['credit_history_len'] = (\n",
    "    df['pre_since_opened'] - \n",
    "    df['pre_since_confirmed']\n",
    ")"
   ],
   "id": "8449c5ff50d76cdc",
   "execution_count": 167,
   "outputs": []
  },
  {
   "metadata": {
    "ExecuteTime": {
     "end_time": "2024-06-10T14:52:40.202572Z",
     "start_time": "2024-06-10T14:52:40.139406Z"
    }
   },
   "cell_type": "code",
   "source": [
    "# Разница между плановой и фактической датой открытия кредита\n",
    "df['close_flags'] = (\n",
    "    df['pclose_flag'] - \n",
    "    df['fclose_flag']\n",
    ")"
   ],
   "id": "b2876e209cce146f",
   "execution_count": 168,
   "outputs": []
  },
  {
   "metadata": {},
   "cell_type": "markdown",
   "source": "# Снижение размерности датасета 1",
   "id": "b3ea6f50179de79f"
  },
  {
   "metadata": {
    "ExecuteTime": {
     "end_time": "2024-06-10T14:53:10.011489Z",
     "start_time": "2024-06-10T14:52:40.203579Z"
    }
   },
   "cell_type": "code",
   "source": [
    "# Снизим размерность признаков датасета для уменьшения объема\n",
    "col = df.columns\n",
    "df[col] = df[col].apply(pd.to_numeric, downcast=\"integer\")"
   ],
   "id": "7198bd4c112f08fb",
   "execution_count": 169,
   "outputs": []
  },
  {
   "metadata": {
    "ExecuteTime": {
     "end_time": "2024-06-10T14:53:10.019987Z",
     "start_time": "2024-06-10T14:53:10.012495Z"
    }
   },
   "cell_type": "code",
   "source": [
    "#Нам удалось снизить размер датасета с 12 GB до 1.7 GB\n",
    "df.info()"
   ],
   "id": "b63a77088529302",
   "execution_count": 170,
   "outputs": []
  },
  {
   "metadata": {
    "ExecuteTime": {
     "end_time": "2024-06-10T14:53:27.957158Z",
     "start_time": "2024-06-10T14:53:10.020993Z"
    }
   },
   "cell_type": "code",
   "source": [
    "# Посмотрим описательные характеристики датасета\n",
    "df.describe().round()"
   ],
   "id": "7375c533f1b054f7",
   "execution_count": 171,
   "outputs": []
  },
  {
   "metadata": {},
   "cell_type": "markdown",
   "source": "# Объединение признаков по id",
   "id": "900b2bab9312c3e0"
  },
  {
   "metadata": {
    "ExecuteTime": {
     "end_time": "2024-06-10T14:53:28.105732Z",
     "start_time": "2024-06-10T14:53:27.958163Z"
    }
   },
   "cell_type": "code",
   "source": [
    "# Создадим копию DataFrame, содержащая только столбцы 'id', 'rn' и 'flag'. \n",
    "prepared_df = df[['id', 'rn', 'flag']].copy()"
   ],
   "id": "2c61e0875b144c1d",
   "execution_count": 172,
   "outputs": []
  },
  {
   "metadata": {
    "ExecuteTime": {
     "end_time": "2024-06-10T14:53:28.109185Z",
     "start_time": "2024-06-10T14:53:28.106743Z"
    }
   },
   "cell_type": "code",
   "source": [
    "# Найдем все столбцы в исходном DataFrame, кроме 'id', 'rn' и 'flag', и сохраняет их в списке features.\n",
    "features = list(set(df.columns) - set(['id', 'rn', 'flag']))"
   ],
   "id": "adc813517e684ebe",
   "execution_count": 173,
   "outputs": []
  },
  {
   "metadata": {
    "ExecuteTime": {
     "end_time": "2024-06-10T14:54:02.521763Z",
     "start_time": "2024-06-10T14:53:28.109185Z"
    }
   },
   "cell_type": "code",
   "source": [
    "# Здесь применяется функция pd.get_dummies для создания dummy (бинарных) признаков для всех категориальных переменных, указанных в features, путем одномерного кодирования\n",
    "dummies = pd.get_dummies(df[features], columns=features)"
   ],
   "id": "a442d57e86ce7f89",
   "execution_count": 174,
   "outputs": []
  },
  {
   "metadata": {
    "ExecuteTime": {
     "end_time": "2024-06-10T14:54:19.241127Z",
     "start_time": "2024-06-10T14:54:02.522768Z"
    }
   },
   "cell_type": "code",
   "source": [
    "# dummy-признаки добавляются к ранее подготовленному DataFrame, состоящему из столбцов 'id', 'rn' и 'flag'.\n",
    "prepared_df = pd.concat([prepared_df, dummies], axis=1)"
   ],
   "id": "8b842b9e95b27686",
   "execution_count": 175,
   "outputs": []
  },
  {
   "metadata": {
    "ExecuteTime": {
     "end_time": "2024-06-10T14:54:19.340316Z",
     "start_time": "2024-06-10T14:54:19.246137Z"
    }
   },
   "cell_type": "code",
   "source": [
    "# Здесь создается словарь agg_df, в котором ключами являются имена признаков, для которых были созданы dummy-признаки (то есть все признаки, кроме 'id', 'rn' и 'flag'), а значениями — строка 'sum', которая указывает, что данные по этим признакам будут агрегированы с помощью суммы.\n",
    "agg_df = {f: 'sum' for f in set(prepared_df.columns) - set(['id', 'rn', 'flag'])}"
   ],
   "id": "9cd5960c35136ed3",
   "execution_count": 176,
   "outputs": []
  },
  {
   "metadata": {
    "ExecuteTime": {
     "end_time": "2024-06-10T14:54:19.344632Z",
     "start_time": "2024-06-10T14:54:19.341321Z"
    }
   },
   "cell_type": "code",
   "source": [
    "# Устанавливается, что для столбца 'rn' будет применена агрегирующая функция 'count', которая подсчитывает количество записей.\n",
    "agg_df['rn'] = 'count'"
   ],
   "id": "1a98ed61bb5ab0a8",
   "execution_count": 177,
   "outputs": []
  },
  {
   "metadata": {
    "ExecuteTime": {
     "end_time": "2024-06-10T14:55:54.559136Z",
     "start_time": "2024-06-10T14:54:19.345639Z"
    }
   },
   "cell_type": "code",
   "source": [
    "# Выполняется группировка DataFrame по значениям столбцов 'id' и 'flag', к каждой группе применяется агрегирующая функция, заданная в agg_df.\n",
    "# Затем результат преобразуется в целочисленный тип с помощью .astype('int').\n",
    "# И наконец, индекс сбрасывается с помощью reset_index(drop=False), чтобы столбцы 'id' и 'flag' снова стали частью данных.\n",
    "prepared_df = prepared_df.groupby(['id', 'flag']).agg(agg_df).astype('int').reset_index(drop=False)"
   ],
   "id": "34a876e9b96c1335",
   "execution_count": 178,
   "outputs": []
  },
  {
   "metadata": {
    "ExecuteTime": {
     "end_time": "2024-06-10T14:55:54.655437Z",
     "start_time": "2024-06-10T14:55:54.560141Z"
    }
   },
   "cell_type": "code",
   "source": "prepared_df.head()",
   "id": "2911898beda24827",
   "execution_count": 179,
   "outputs": []
  },
  {
   "metadata": {
    "ExecuteTime": {
     "end_time": "2024-06-10T14:55:54.659546Z",
     "start_time": "2024-06-10T14:55:54.656443Z"
    }
   },
   "cell_type": "code",
   "source": "agg_df = prepared_df",
   "id": "8485f05d2d2bcf7b",
   "execution_count": 180,
   "outputs": []
  },
  {
   "metadata": {},
   "cell_type": "markdown",
   "source": "# Удаление неинформативных признаков и признаков с одним значением",
   "id": "8c2f14e3a3d9e457"
  },
  {
   "metadata": {
    "ExecuteTime": {
     "end_time": "2024-06-10T14:56:00.570219Z",
     "start_time": "2024-06-10T14:55:54.660551Z"
    }
   },
   "cell_type": "code",
   "source": [
    "# Определим признаки с одним значением\n",
    "single_valued_columns = agg_df.columns[agg_df.nunique() == 1]"
   ],
   "id": "7fca658102c7c58d",
   "execution_count": 181,
   "outputs": []
  },
  {
   "metadata": {
    "ExecuteTime": {
     "end_time": "2024-06-10T14:56:01.253876Z",
     "start_time": "2024-06-10T14:56:00.571223Z"
    }
   },
   "cell_type": "code",
   "source": [
    "# Удалим признаки с одним значением из датасета\n",
    "agg_df = agg_df.drop(single_valued_columns, axis=1)"
   ],
   "id": "709e9974042cb343",
   "execution_count": 182,
   "outputs": []
  },
  {
   "metadata": {
    "ExecuteTime": {
     "end_time": "2024-06-10T14:56:01.258616Z",
     "start_time": "2024-06-10T14:56:01.254880Z"
    }
   },
   "cell_type": "code",
   "source": "agg_df.shape",
   "id": "953c64c2ec58ac5",
   "execution_count": 183,
   "outputs": []
  },
  {
   "metadata": {},
   "cell_type": "markdown",
   "source": "# Масштабирование признаков",
   "id": "d8ea092973ded5d"
  },
  {
   "metadata": {
    "ExecuteTime": {
     "end_time": "2024-06-10T14:56:06.938602Z",
     "start_time": "2024-06-10T14:56:01.259621Z"
    }
   },
   "cell_type": "code",
   "source": [
    "# Здесь создается список binary_features, который содержит все столбцы из agg_df, имеющие ровно два уникальных значения. Это обычно признаки, которые принимают значения 0 и 1 (бинарные).\n",
    "binary_features = [col for col in agg_df.columns if agg_df[col].nunique() == 2]"
   ],
   "id": "9415f08df0283bce",
   "execution_count": 184,
   "outputs": []
  },
  {
   "metadata": {
    "ExecuteTime": {
     "end_time": "2024-06-10T14:56:06.943069Z",
     "start_time": "2024-06-10T14:56:06.939608Z"
    }
   },
   "cell_type": "code",
   "source": [
    "# Создается список continuous_features, который включает все столбцы из agg_df, кроме бинарных признаков, а также столбцов 'id' и 'flag'.\n",
    "continuous_features = [col for col in agg_df.columns if col not in binary_features and col not in ['flag', 'id']]"
   ],
   "id": "53e1d599231481d0",
   "execution_count": 185,
   "outputs": []
  },
  {
   "metadata": {
    "ExecuteTime": {
     "end_time": "2024-06-10T14:56:06.947669Z",
     "start_time": "2024-06-10T14:56:06.944081Z"
    }
   },
   "cell_type": "code",
   "source": "scaler = StandardScaler()",
   "id": "efcd5251cadb7c52",
   "execution_count": 186,
   "outputs": []
  },
  {
   "metadata": {
    "ExecuteTime": {
     "end_time": "2024-06-10T14:56:26.774999Z",
     "start_time": "2024-06-10T14:56:06.948674Z"
    }
   },
   "cell_type": "code",
   "source": "agg_df[continuous_features] = scaler.fit_transform(agg_df[continuous_features])",
   "id": "65c24afee4b6c8c1",
   "execution_count": 187,
   "outputs": []
  },
  {
   "metadata": {
    "ExecuteTime": {
     "end_time": "2024-06-10T14:56:30.735715Z",
     "start_time": "2024-06-10T14:56:26.776011Z"
    }
   },
   "cell_type": "code",
   "source": [
    "# Удаляем столбец id, если он присутствует\n",
    "if 'id' in agg_df.columns:\n",
    "    agg_df.drop('id', axis=1, inplace=True)"
   ],
   "id": "ef45aa78e1809a68",
   "execution_count": 188,
   "outputs": []
  },
  {
   "metadata": {
    "ExecuteTime": {
     "end_time": "2024-06-10T14:56:30.742859Z",
     "start_time": "2024-06-10T14:56:30.737730Z"
    }
   },
   "cell_type": "code",
   "source": [
    "# Проверяем на дублирование столбца flag \n",
    "if 'flag' not in agg_df.columns:\n",
    "    agg_df['flag'] = flag"
   ],
   "id": "c9310b0923c7a453",
   "execution_count": 189,
   "outputs": []
  },
  {
   "metadata": {
    "ExecuteTime": {
     "end_time": "2024-06-10T14:56:36.833671Z",
     "start_time": "2024-06-10T14:56:30.744879Z"
    }
   },
   "cell_type": "code",
   "source": [
    "# Итоговый DataFrame\n",
    "scaled_df = agg_df.copy()"
   ],
   "id": "d16a05f766d99d50",
   "execution_count": 190,
   "outputs": []
  },
  {
   "metadata": {
    "ExecuteTime": {
     "end_time": "2024-06-10T14:56:37.032861Z",
     "start_time": "2024-06-10T14:56:36.834676Z"
    }
   },
   "cell_type": "code",
   "source": "scaled_df.head()",
   "id": "fc7ce18d6f8da185",
   "execution_count": 191,
   "outputs": []
  },
  {
   "metadata": {
    "ExecuteTime": {
     "end_time": "2024-06-10T14:56:37.078663Z",
     "start_time": "2024-06-10T14:56:37.035893Z"
    }
   },
   "cell_type": "code",
   "source": "scaled_df.info()",
   "id": "9778f3c26f4627b4",
   "execution_count": 192,
   "outputs": []
  },
  {
   "metadata": {},
   "cell_type": "markdown",
   "source": "# Снижение размерности датасета 2",
   "id": "717d3fe8bcd51a44"
  },
  {
   "metadata": {
    "ExecuteTime": {
     "end_time": "2024-06-10T14:58:19.435643Z",
     "start_time": "2024-06-10T14:56:37.081680Z"
    }
   },
   "cell_type": "code",
   "source": [
    "# Приведение к целочисленным типам минимального размера:\n",
    "scaled_df = scaled_df.apply(pd.to_numeric, downcast='integer')"
   ],
   "id": "c66d9462a37a2ae0",
   "execution_count": 193,
   "outputs": []
  },
  {
   "metadata": {
    "ExecuteTime": {
     "end_time": "2024-06-10T14:58:38.196639Z",
     "start_time": "2024-06-10T14:58:19.442655Z"
    }
   },
   "cell_type": "code",
   "source": [
    "# Приведение к вещественным типам минимального размера\n",
    "scaled_df = scaled_df.apply(pd.to_numeric, downcast='float')"
   ],
   "id": "cb661d0082172871",
   "execution_count": 194,
   "outputs": []
  },
  {
   "metadata": {
    "ExecuteTime": {
     "end_time": "2024-06-10T14:58:38.213191Z",
     "start_time": "2024-06-10T14:58:38.198643Z"
    }
   },
   "cell_type": "code",
   "source": "scaled_df.info()",
   "id": "fc21e919206d2ead",
   "execution_count": 195,
   "outputs": []
  },
  {
   "metadata": {},
   "cell_type": "markdown",
   "source": "# Разделение на тестовую и тренировочную выборки",
   "id": "1e2af2b42894505b"
  },
  {
   "metadata": {
    "ExecuteTime": {
     "end_time": "2024-06-10T14:58:38.984697Z",
     "start_time": "2024-06-10T14:58:38.237195Z"
    }
   },
   "cell_type": "code",
   "source": [
    "X = scaled_df.drop(columns=['flag'], axis=1)\n",
    "y = scaled_df['flag']"
   ],
   "id": "7d0eeac28a99ad45",
   "execution_count": 196,
   "outputs": []
  },
  {
   "metadata": {
    "ExecuteTime": {
     "end_time": "2024-06-10T14:58:38.994088Z",
     "start_time": "2024-06-10T14:58:38.985703Z"
    }
   },
   "cell_type": "code",
   "source": "X.columns = X.columns.str.replace(\"-\", \"x\")",
   "id": "31ab541f34f46",
   "execution_count": 197,
   "outputs": []
  },
  {
   "metadata": {
    "ExecuteTime": {
     "end_time": "2024-06-10T14:58:39.041539Z",
     "start_time": "2024-06-10T14:58:39.015093Z"
    }
   },
   "cell_type": "code",
   "source": "X.info()",
   "id": "f55e4e6adf25ef99",
   "execution_count": 198,
   "outputs": []
  },
  {
   "metadata": {
    "ExecuteTime": {
     "end_time": "2024-06-10T14:58:39.112162Z",
     "start_time": "2024-06-10T14:58:39.042545Z"
    }
   },
   "cell_type": "code",
   "source": "y.info()",
   "id": "16a99acc05c12ac9",
   "execution_count": 199,
   "outputs": []
  },
  {
   "metadata": {
    "ExecuteTime": {
     "end_time": "2024-06-10T14:58:47.467345Z",
     "start_time": "2024-06-10T14:58:39.114167Z"
    }
   },
   "cell_type": "code",
   "source": [
    "# Разделение данных на обучающую и тестовую выборки\n",
    "train_x, test_x, train_y, test_y = train_test_split(X, y, train_size = 0.8, random_state=42, stratify=y)"
   ],
   "id": "bdf1d4826219c8f8",
   "execution_count": 200,
   "outputs": []
  },
  {
   "metadata": {},
   "cell_type": "markdown",
   "source": "# Моделирование",
   "id": "18112bad9c2e3a5f"
  },
  {
   "metadata": {
    "ExecuteTime": {
     "end_time": "2024-06-10T14:58:47.675305Z",
     "start_time": "2024-06-10T14:58:47.468351Z"
    }
   },
   "cell_type": "code",
   "source": [
    "# Рассчитываем веса образцов\n",
    "sample_weights = compute_sample_weight(class_weight='balanced', y=train_y)"
   ],
   "id": "52fcd8653ceff342",
   "execution_count": 201,
   "outputs": []
  },
  {
   "metadata": {
    "ExecuteTime": {
     "end_time": "2024-06-10T14:58:47.682881Z",
     "start_time": "2024-06-10T14:58:47.676311Z"
    }
   },
   "cell_type": "code",
   "source": "xgbc = XGBClassifier(learning_rate=0.2, n_estimators=400, max_depth=3)",
   "id": "d5e413fabd2e29f8",
   "execution_count": 202,
   "outputs": []
  },
  {
   "metadata": {
    "ExecuteTime": {
     "end_time": "2024-06-10T15:00:18.518717Z",
     "start_time": "2024-06-10T14:58:47.711886Z"
    }
   },
   "cell_type": "code",
   "source": [
    "# Обучаем XGBoost классификатор\n",
    "xgbc.fit(train_x, train_y, sample_weight=sample_weights)"
   ],
   "id": "fc650494b42b4343",
   "execution_count": 203,
   "outputs": []
  },
  {
   "metadata": {
    "ExecuteTime": {
     "end_time": "2024-06-10T15:00:21.005399Z",
     "start_time": "2024-06-10T15:00:18.519722Z"
    }
   },
   "cell_type": "code",
   "source": [
    "# Применение лучших параметров и оценка модели\n",
    "y_pred = xgbc.predict(test_x)\n",
    "y_pred_proba = xgbc.predict_proba(test_x)[:, 1]\n",
    "print(f\"AUC-ROC: {roc_auc_score(test_y, y_pred_proba)}\")\n",
    "print(classification_report(test_y, y_pred))"
   ],
   "id": "b7252442f8aa83ac",
   "execution_count": 204,
   "outputs": []
  },
  {
   "metadata": {
    "ExecuteTime": {
     "end_time": "2024-06-10T15:00:21.008689Z",
     "start_time": "2024-06-10T15:00:21.006407Z"
    }
   },
   "cell_type": "code",
   "source": "# 1. Высокая AUC-ROC указывает на то, что модель хорошо умеет различать классы в целом.",
   "id": "d12cfb42e36d561f",
   "execution_count": 205,
   "outputs": []
  },
  {
   "metadata": {
    "ExecuteTime": {
     "end_time": "2024-06-10T15:00:21.011911Z",
     "start_time": "2024-06-10T15:00:21.008689Z"
    }
   },
   "cell_type": "code",
   "source": "# 2. Precision для высокого риска очень низкая (0.07), что означает, что модель часто ошибается при предсказании высокорисковых заемщиков (много false positives).",
   "id": "f9fbbd9c9b43208b",
   "execution_count": 206,
   "outputs": []
  },
  {
   "metadata": {
    "ExecuteTime": {
     "end_time": "2024-06-10T15:00:21.014869Z",
     "start_time": "2024-06-10T15:00:21.011911Z"
    }
   },
   "cell_type": "code",
   "source": [
    "# 3. Recall для высокого риска довольно высокое (0.70), что означает, что модель находит большинство высокорисковых заемщиков (немного ошибается, не предсказывая их).\n",
    "# Думаю это наиболее важный показатель."
   ],
   "id": "8832f650f71351b5",
   "execution_count": 207,
   "outputs": []
  },
  {
   "metadata": {
    "ExecuteTime": {
     "end_time": "2024-06-10T15:00:21.017788Z",
     "start_time": "2024-06-10T15:00:21.014869Z"
    }
   },
   "cell_type": "code",
   "source": "# 4. Для низкорисковых заемщиков модель показывает очень хорошие precision (0.98), что означает, что почти все предсказания низкого риска являются правильными, но средний recall (0.68) указывает, что многие низкорисковые заемщики были упущены.",
   "id": "8a276abe25b45145",
   "execution_count": 208,
   "outputs": []
  },
  {
   "metadata": {},
   "cell_type": "markdown",
   "source": "# Порог предсказания вероятности",
   "id": "ee4f127778093c61"
  },
  {
   "metadata": {
    "ExecuteTime": {
     "end_time": "2024-06-10T15:00:21.804956Z",
     "start_time": "2024-06-10T15:00:21.018795Z"
    }
   },
   "cell_type": "code",
   "source": [
    "# Предсказание вероятностей для каждого класса\n",
    "y_proba = xgbc.predict_proba(test_x)\n",
    "y_true = test_y"
   ],
   "id": "b3a6f3548e262f57",
   "execution_count": 209,
   "outputs": []
  },
  {
   "metadata": {
    "ExecuteTime": {
     "end_time": "2024-06-10T15:00:21.810320Z",
     "start_time": "2024-06-10T15:00:21.805962Z"
    }
   },
   "cell_type": "code",
   "source": [
    "# Функция для получения метрик на разных порогах\n",
    "def evaluate_thresholds(y_true, y_proba):\n",
    "    thresholds = np.arange(0.0, 1.1, 0.1)\n",
    "    for threshold in thresholds:\n",
    "        y_pred = np.where(y_proba[:, 1] >= threshold, 1, 0)\n",
    "        print(f\"Threshold: {threshold:.1f}\")\n",
    "        print(classification_report(y_true, y_pred))\n",
    "        print(\"--------------------------------\")"
   ],
   "id": "86d4a4c9f2ab13a5",
   "execution_count": 210,
   "outputs": []
  },
  {
   "metadata": {
    "ExecuteTime": {
     "end_time": "2024-06-10T15:00:22.249004Z",
     "start_time": "2024-06-10T15:00:21.811326Z"
    }
   },
   "cell_type": "code",
   "source": [
    "# Визуализация ROC-кривой и выбор порога\n",
    "fpr, tpr, thresholds = roc_curve(y_true, y_proba[:, 1])\n",
    "plt.plot(fpr, tpr, label=f'ROC Curve (AUC = {roc_auc_score(y_true, y_proba[:, 1]):.2f})')\n",
    "plt.plot([0, 1], [0, 1], 'k--')\n",
    "plt.xlabel('False Positive Rate')\n",
    "plt.ylabel('True Positive Rate')\n",
    "plt.title('ROC Curve')\n",
    "plt.legend(loc='best')\n",
    "plt.show()"
   ],
   "id": "269840480039e4b",
   "execution_count": 211,
   "outputs": []
  },
  {
   "metadata": {
    "ExecuteTime": {
     "end_time": "2024-06-10T15:00:22.667319Z",
     "start_time": "2024-06-10T15:00:22.250010Z"
    }
   },
   "cell_type": "code",
   "source": [
    "# Визуализация Precision-Recall-кривой\n",
    "precision, recall, thresholds = precision_recall_curve(y_true, y_proba[:, 1])\n",
    "plt.plot(recall, precision, label='Precision-Recall Curve')\n",
    "plt.xlabel('Recall')\n",
    "plt.ylabel('Precision')\n",
    "plt.title('Precision-Recall Curve')\n",
    "plt.legend(loc='best')\n",
    "plt.show()"
   ],
   "id": "3efe98963183eff8",
   "execution_count": 212,
   "outputs": []
  },
  {
   "metadata": {
    "ExecuteTime": {
     "end_time": "2024-06-10T15:00:27.801770Z",
     "start_time": "2024-06-10T15:00:22.668327Z"
    }
   },
   "cell_type": "code",
   "source": [
    "# Оценка метрик для различных порогов\n",
    "evaluate_thresholds(y_true, y_proba)"
   ],
   "id": "5328c7ef19ce5f30",
   "execution_count": 213,
   "outputs": []
  },
  {
   "metadata": {
    "ExecuteTime": {
     "end_time": "2024-06-10T15:00:27.804979Z",
     "start_time": "2024-06-10T15:00:27.802779Z"
    }
   },
   "cell_type": "code",
   "source": "# При пороге 0.5 модель дает относительно высокую точность для класса 0 (98%), а также имеет приемлемый recall (70%) для класса 1.",
   "id": "a2837599a48eb14b",
   "execution_count": 214,
   "outputs": []
  },
  {
   "metadata": {},
   "cell_type": "markdown",
   "source": "# Обучение модели на всех данных",
   "id": "d4bcfa09e6db946a"
  },
  {
   "metadata": {
    "ExecuteTime": {
     "end_time": "2024-06-10T15:00:28.049722Z",
     "start_time": "2024-06-10T15:00:27.805986Z"
    }
   },
   "cell_type": "code",
   "source": "sample_weights = compute_sample_weight(class_weight='balanced', y=y)",
   "id": "6edcef9fbf485977",
   "execution_count": 215,
   "outputs": []
  },
  {
   "metadata": {
    "ExecuteTime": {
     "end_time": "2024-06-10T15:02:21.668634Z",
     "start_time": "2024-06-10T15:00:28.050728Z"
    }
   },
   "cell_type": "code",
   "source": "xgbc.fit(X, y, sample_weight=sample_weights)",
   "id": "25b88716aaab75af",
   "execution_count": 216,
   "outputs": []
  },
  {
   "metadata": {
    "ExecuteTime": {
     "end_time": "2024-06-10T15:02:33.866811Z",
     "start_time": "2024-06-10T15:02:21.669641Z"
    }
   },
   "cell_type": "code",
   "source": [
    "# Применение лучших параметров и оценка модели\n",
    "y_pred = xgbc.predict(X)\n",
    "y_pred_proba = xgbc.predict_proba(X)[:, 1]\n",
    "print(f\"AUC-ROC: {roc_auc_score(y, y_pred_proba)}\")\n",
    "print(classification_report(y, y_pred))"
   ],
   "id": "c0a930b6d79f7ae7",
   "execution_count": 217,
   "outputs": []
  },
  {
   "metadata": {
    "ExecuteTime": {
     "end_time": "2024-06-10T15:02:33.874936Z",
     "start_time": "2024-06-10T15:02:33.867816Z"
    }
   },
   "cell_type": "code",
   "source": [
    "def convert_dtype(dtype):\n",
    "    if dtype in ['int32', 'int64', 'int16', 'int8']:\n",
    "        return 'int'\n",
    "    elif dtype in ['float32', 'float64']:\n",
    "        return 'float'\n",
    "    return dtype\n",
    "\n",
    "# Создаем список столбцов с типами данных\n",
    "columns_with_types = [f\"{col}: {convert_dtype(dtype.name)}\" for col, dtype in X.dtypes.items()]\n",
    "\n",
    "# Выводим список без кавычек\n",
    "for item in columns_with_types:\n",
    "    print(item)"
   ],
   "id": "a33f289044efa9e0",
   "execution_count": 218,
   "outputs": []
  },
  {
   "metadata": {
    "ExecuteTime": {
     "end_time": "2024-06-10T15:02:33.881413Z",
     "start_time": "2024-06-10T15:02:33.875943Z"
    }
   },
   "cell_type": "code",
   "source": [
    "first_row = X.iloc[0]\n",
    "columns_with_first_values = [f'\"{col}\": {val},' for col, val in first_row.items()]\n",
    "columns_with_first_values[-1] = columns_with_first_values[-1].rstrip(',')\n",
    "for item in columns_with_first_values:\n",
    "    print(item)"
   ],
   "id": "99fd1b8056769343",
   "execution_count": 219,
   "outputs": []
  },
  {
   "metadata": {
    "ExecuteTime": {
     "end_time": "2024-06-10T15:02:33.899816Z",
     "start_time": "2024-06-10T15:02:33.881413Z"
    }
   },
   "cell_type": "code",
   "source": [
    "import pickle\n",
    "\n",
    "# Загрузка модели из файла\n",
    "with open('G://ds-junior/final_work_ds/model/xgbc_model.pkl', 'rb') as f:\n",
    "    model = pickle.load(f)\n",
    "\n",
    "# Извлечение имен фичей\n",
    "if hasattr(model, 'feature_names_in_'):\n",
    "    feature_names = model.feature_names_in_\n",
    "elif hasattr(model, 'get_booster'):\n",
    "    # Если модель - это XGBoost\n",
    "    booster = model.get_booster()\n",
    "    feature_names = booster.feature_names\n",
    "else:\n",
    "    feature_names = None\n",
    "\n",
    "print(\"Имена фичей:\", feature_names)"
   ],
   "id": "523ec49bfcc5a3f6",
   "execution_count": 220,
   "outputs": []
  }
 ],
 "metadata": {
  "kernelspec": {
   "display_name": "Python 3",
   "language": "python",
   "name": "python3"
  },
  "language_info": {
   "codemirror_mode": {
    "name": "ipython",
    "version": 2
   },
   "file_extension": ".py",
   "mimetype": "text/x-python",
   "name": "python",
   "nbconvert_exporter": "python",
   "pygments_lexer": "ipython2",
   "version": "2.7.6"
  }
 },
 "nbformat": 4,
 "nbformat_minor": 5
}
